{
 "cells": [
  {
   "cell_type": "markdown",
   "id": "9739a918",
   "metadata": {},
   "source": [
    "## Step 1: Import the necessary lib"
   ]
  },
  {
   "cell_type": "code",
   "execution_count": 21,
   "id": "b93d835a",
   "metadata": {},
   "outputs": [],
   "source": [
    "import numpy as np\n",
    "import pandas as pd\n",
    "import matplotlib.pyplot as plt"
   ]
  },
  {
   "cell_type": "markdown",
   "id": "35dd4b91",
   "metadata": {},
   "source": [
    "## Step 2: Import dataset"
   ]
  },
  {
   "cell_type": "code",
   "execution_count": 22,
   "id": "73abdd16",
   "metadata": {},
   "outputs": [],
   "source": [
    "Dataset=pd.read_csv('KNN Data.csv')"
   ]
  },
  {
   "cell_type": "code",
   "execution_count": 23,
   "id": "a731815e",
   "metadata": {},
   "outputs": [
    {
     "data": {
      "text/html": [
       "<div>\n",
       "<style scoped>\n",
       "    .dataframe tbody tr th:only-of-type {\n",
       "        vertical-align: middle;\n",
       "    }\n",
       "\n",
       "    .dataframe tbody tr th {\n",
       "        vertical-align: top;\n",
       "    }\n",
       "\n",
       "    .dataframe thead th {\n",
       "        text-align: right;\n",
       "    }\n",
       "</style>\n",
       "<table border=\"1\" class=\"dataframe\">\n",
       "  <thead>\n",
       "    <tr style=\"text-align: right;\">\n",
       "      <th></th>\n",
       "      <th>Age</th>\n",
       "      <th>Salary</th>\n",
       "      <th>Purchased Plot</th>\n",
       "    </tr>\n",
       "  </thead>\n",
       "  <tbody>\n",
       "    <tr>\n",
       "      <th>0</th>\n",
       "      <td>22</td>\n",
       "      <td>22990</td>\n",
       "      <td>0</td>\n",
       "    </tr>\n",
       "    <tr>\n",
       "      <th>1</th>\n",
       "      <td>38</td>\n",
       "      <td>24200</td>\n",
       "      <td>0</td>\n",
       "    </tr>\n",
       "    <tr>\n",
       "      <th>2</th>\n",
       "      <td>29</td>\n",
       "      <td>52030</td>\n",
       "      <td>0</td>\n",
       "    </tr>\n",
       "    <tr>\n",
       "      <th>3</th>\n",
       "      <td>30</td>\n",
       "      <td>68970</td>\n",
       "      <td>0</td>\n",
       "    </tr>\n",
       "    <tr>\n",
       "      <th>4</th>\n",
       "      <td>22</td>\n",
       "      <td>91960</td>\n",
       "      <td>0</td>\n",
       "    </tr>\n",
       "  </tbody>\n",
       "</table>\n",
       "</div>"
      ],
      "text/plain": [
       "   Age  Salary  Purchased Plot\n",
       "0   22   22990               0\n",
       "1   38   24200               0\n",
       "2   29   52030               0\n",
       "3   30   68970               0\n",
       "4   22   91960               0"
      ]
     },
     "execution_count": 23,
     "metadata": {},
     "output_type": "execute_result"
    }
   ],
   "source": [
    "Dataset.head()"
   ]
  },
  {
   "cell_type": "code",
   "execution_count": 24,
   "id": "bceb8d1e",
   "metadata": {},
   "outputs": [
    {
     "name": "stdout",
     "output_type": "stream",
     "text": [
      "<class 'pandas.core.frame.DataFrame'>\n",
      "RangeIndex: 400 entries, 0 to 399\n",
      "Data columns (total 3 columns):\n",
      " #   Column          Non-Null Count  Dtype\n",
      "---  ------          --------------  -----\n",
      " 0   Age             400 non-null    int64\n",
      " 1   Salary          400 non-null    int64\n",
      " 2   Purchased Plot  400 non-null    int64\n",
      "dtypes: int64(3)\n",
      "memory usage: 9.5 KB\n"
     ]
    }
   ],
   "source": [
    "Dataset.info()"
   ]
  },
  {
   "cell_type": "code",
   "execution_count": 25,
   "id": "b3556fa1",
   "metadata": {},
   "outputs": [
    {
     "data": {
      "text/plain": [
       "Age               0\n",
       "Salary            0\n",
       "Purchased Plot    0\n",
       "dtype: int64"
      ]
     },
     "execution_count": 25,
     "metadata": {},
     "output_type": "execute_result"
    }
   ],
   "source": [
    "Dataset.isnull().sum()"
   ]
  },
  {
   "cell_type": "code",
   "execution_count": 26,
   "id": "6f7be101",
   "metadata": {},
   "outputs": [],
   "source": [
    "d=pd.read_csv('KNN Data (copy).csv')"
   ]
  },
  {
   "cell_type": "code",
   "execution_count": 27,
   "id": "90fc9cf9",
   "metadata": {},
   "outputs": [
    {
     "data": {
      "text/plain": [
       "Age               1\n",
       "Salary            1\n",
       "Purchased Plot    0\n",
       "dtype: int64"
      ]
     },
     "execution_count": 27,
     "metadata": {},
     "output_type": "execute_result"
    }
   ],
   "source": [
    "d.isnull().sum()"
   ]
  },
  {
   "cell_type": "markdown",
   "id": "7abc7a9f",
   "metadata": {},
   "source": [
    "## Step3: Divide Dataset Into Feature Matrix and Output Vector"
   ]
  },
  {
   "cell_type": "code",
   "execution_count": 28,
   "id": "6f080cb9",
   "metadata": {},
   "outputs": [
    {
     "data": {
      "text/html": [
       "<div>\n",
       "<style scoped>\n",
       "    .dataframe tbody tr th:only-of-type {\n",
       "        vertical-align: middle;\n",
       "    }\n",
       "\n",
       "    .dataframe tbody tr th {\n",
       "        vertical-align: top;\n",
       "    }\n",
       "\n",
       "    .dataframe thead th {\n",
       "        text-align: right;\n",
       "    }\n",
       "</style>\n",
       "<table border=\"1\" class=\"dataframe\">\n",
       "  <thead>\n",
       "    <tr style=\"text-align: right;\">\n",
       "      <th></th>\n",
       "      <th>Age</th>\n",
       "      <th>Salary</th>\n",
       "      <th>Purchased Plot</th>\n",
       "    </tr>\n",
       "  </thead>\n",
       "  <tbody>\n",
       "    <tr>\n",
       "      <th>0</th>\n",
       "      <td>22</td>\n",
       "      <td>22990</td>\n",
       "      <td>0</td>\n",
       "    </tr>\n",
       "    <tr>\n",
       "      <th>1</th>\n",
       "      <td>38</td>\n",
       "      <td>24200</td>\n",
       "      <td>0</td>\n",
       "    </tr>\n",
       "    <tr>\n",
       "      <th>2</th>\n",
       "      <td>29</td>\n",
       "      <td>52030</td>\n",
       "      <td>0</td>\n",
       "    </tr>\n",
       "    <tr>\n",
       "      <th>3</th>\n",
       "      <td>30</td>\n",
       "      <td>68970</td>\n",
       "      <td>0</td>\n",
       "    </tr>\n",
       "    <tr>\n",
       "      <th>4</th>\n",
       "      <td>22</td>\n",
       "      <td>91960</td>\n",
       "      <td>0</td>\n",
       "    </tr>\n",
       "  </tbody>\n",
       "</table>\n",
       "</div>"
      ],
      "text/plain": [
       "   Age  Salary  Purchased Plot\n",
       "0   22   22990               0\n",
       "1   38   24200               0\n",
       "2   29   52030               0\n",
       "3   30   68970               0\n",
       "4   22   91960               0"
      ]
     },
     "execution_count": 28,
     "metadata": {},
     "output_type": "execute_result"
    }
   ],
   "source": [
    "Dataset.head()"
   ]
  },
  {
   "cell_type": "code",
   "execution_count": 29,
   "id": "f62b349e",
   "metadata": {},
   "outputs": [],
   "source": [
    "X=Dataset.iloc[:,:-1].values\n",
    "Y=Dataset.iloc[:,-1].values"
   ]
  },
  {
   "cell_type": "code",
   "execution_count": 30,
   "id": "0c1f75c4",
   "metadata": {},
   "outputs": [
    {
     "data": {
      "text/plain": [
       "array([[    22,  22990],\n",
       "       [    38,  24200],\n",
       "       [    29,  52030],\n",
       "       [    30,  68970],\n",
       "       [    22,  91960],\n",
       "       [    30,  70180],\n",
       "       [    30, 101640],\n",
       "       [    35, 181500],\n",
       "       [    28,  39930],\n",
       "       [    38,  78650],\n",
       "       [    29,  96800],\n",
       "       [    29,  62920],\n",
       "       [    23, 104060],\n",
       "       [    35,  21780],\n",
       "       [    21,  99220],\n",
       "       [    32,  96800],\n",
       "       [    50,  30250],\n",
       "       [    48,  31460],\n",
       "       [    49,  33880],\n",
       "       [    51,  35090],\n",
       "       [    48,  26620],\n",
       "       [    50,  59290],\n",
       "       [    51,  49610],\n",
       "       [    48,  26620],\n",
       "       [    49,  27830],\n",
       "       [    50,  24200],\n",
       "       [    52,  33880],\n",
       "       [    50,  36300],\n",
       "       [    32,  52030],\n",
       "       [    34,  21780],\n",
       "       [    34,  89540],\n",
       "       [    30, 165770],\n",
       "       [    24,  19360],\n",
       "       [    31,  53240],\n",
       "       [    30, 108900],\n",
       "       [    38,  32670],\n",
       "       [    36,  33880],\n",
       "       [    33,  59290],\n",
       "       [    29,  87120],\n",
       "       [    30,  37510],\n",
       "       [    30,  20570],\n",
       "       [    36,  61710],\n",
       "       [    38, 130680],\n",
       "       [    33,  18150],\n",
       "       [    31, 101640],\n",
       "       [    26,  24200],\n",
       "       [    28,  95590],\n",
       "       [    30,  65340],\n",
       "       [    33, 163350],\n",
       "       [    34, 107690],\n",
       "       [    27,  38720],\n",
       "       [    21,  53240],\n",
       "       [    32, 100430],\n",
       "       [    38,  27830],\n",
       "       [    30,  70180],\n",
       "       [    27,  66550],\n",
       "       [    26,  58080],\n",
       "       [    31,  95590],\n",
       "       [    25,  21780],\n",
       "       [    35, 141570],\n",
       "       [    30,  24200],\n",
       "       [    28, 105270],\n",
       "       [    26,  79860],\n",
       "       [    35, 145200],\n",
       "       [    62, 100430],\n",
       "       [    27,  70180],\n",
       "       [    27,  22990],\n",
       "       [    26,  99220],\n",
       "       [    25,  76230],\n",
       "       [    34,  82280],\n",
       "       [    28,  96800],\n",
       "       [    27,  32670],\n",
       "       [    23,  27830],\n",
       "       [    36, 136730],\n",
       "       [    35,  21780],\n",
       "       [    37, 135520],\n",
       "       [    21,  62920],\n",
       "       [    25,  32670],\n",
       "       [    31, 105270],\n",
       "       [    29,  20570],\n",
       "       [    33,  96800],\n",
       "       [    42,  50820],\n",
       "       [    23,  59290],\n",
       "       [    38, 106480],\n",
       "       [    33,  75020],\n",
       "       [    34, 142780],\n",
       "       [    27,  66550],\n",
       "       [    31, 102850],\n",
       "       [    29,  98010],\n",
       "       [    38,  60500],\n",
       "       [    25,  98010],\n",
       "       [    33, 140360],\n",
       "       [    29,  18150],\n",
       "       [    32,  33880],\n",
       "       [    32, 100430],\n",
       "       [    38,  53240],\n",
       "       [    38,  30250],\n",
       "       [    31, 148830],\n",
       "       [    38,  88330],\n",
       "       [    31,  44770],\n",
       "       [    30, 106480],\n",
       "       [    31,  71390],\n",
       "       [    35, 104060],\n",
       "       [    36, 180290],\n",
       "       [    22,  25410],\n",
       "       [    24,  87120],\n",
       "       [    29,  42350],\n",
       "       [    30, 107690],\n",
       "       [    29, 104060],\n",
       "       [    41,  96800],\n",
       "       [    42,  85910],\n",
       "       [    40,  85910],\n",
       "       [    41,  73810],\n",
       "       [    40,  66550],\n",
       "       [    45,  96800],\n",
       "       [    43,  68970],\n",
       "       [    38,  90750],\n",
       "       [    39,  62920],\n",
       "       [    43,  71390],\n",
       "       [    44,  71390],\n",
       "       [    39,  90750],\n",
       "       [    40,  87120],\n",
       "       [    43,  90750],\n",
       "       [    38,  64130],\n",
       "       [    44,  61710],\n",
       "       [    42,  73810],\n",
       "       [    45,  78650],\n",
       "       [    29,  38720],\n",
       "       [    33,  20570],\n",
       "       [    29, 101640],\n",
       "       [    34,  70180],\n",
       "       [    36,  37510],\n",
       "       [    33, 105270],\n",
       "       [    24,  82280],\n",
       "       [    31,  66550],\n",
       "       [    26,  76230],\n",
       "       [    23,  99220],\n",
       "       [    33, 129470],\n",
       "       [    31,  71390],\n",
       "       [    22,  30250],\n",
       "       [    22, 102850],\n",
       "       [    21,  82280],\n",
       "       [    38,  71390],\n",
       "       [    33, 107690],\n",
       "       [    37,  30250],\n",
       "       [    27, 107690],\n",
       "       [    30, 116160],\n",
       "       [    44,  36300],\n",
       "       [    32,  73810],\n",
       "       [    23,  89540],\n",
       "       [    29,  18150],\n",
       "       [    44,  54450],\n",
       "       [    34,  91960],\n",
       "       [    39,  60500],\n",
       "       [    43,  56870],\n",
       "       [    34,  18150],\n",
       "       [    49,  71390],\n",
       "       [    32,  90750],\n",
       "       [    29,  36300],\n",
       "       [    35, 163350],\n",
       "       [    35, 121000],\n",
       "       [    28, 108900],\n",
       "       [    40,  39930],\n",
       "       [    38,  45980],\n",
       "       [    36,  83490],\n",
       "       [    21, 104060],\n",
       "       [    25,  66550],\n",
       "       [    38,  85910],\n",
       "       [    32, 179080],\n",
       "       [    32,  56870],\n",
       "       [    24, 106480],\n",
       "       [    37, 139150],\n",
       "       [    29, 142780],\n",
       "       [    37,  52030],\n",
       "       [    37,  87120],\n",
       "       [    26,  33880],\n",
       "       [    38,  56870],\n",
       "       [    28,  26620],\n",
       "       [    27,  27830],\n",
       "       [    34,  41140],\n",
       "       [    29,  19360],\n",
       "       [    34,  85910],\n",
       "       [    35, 141570],\n",
       "       [    36,  52030],\n",
       "       [    36,  72600],\n",
       "       [    34,  79860],\n",
       "       [    23,  99220],\n",
       "       [    36,  49610],\n",
       "       [    38,  87120],\n",
       "       [    31,  38720],\n",
       "       [    27, 101640],\n",
       "       [    22,  31460],\n",
       "       [    32,  52030],\n",
       "       [    22,  84700],\n",
       "       [    31, 107690],\n",
       "       [    37,  52030],\n",
       "       [    33,  95590],\n",
       "       [    23,  43560],\n",
       "       [    29,  96800],\n",
       "       [    38,  26620],\n",
       "       [    38,  47190],\n",
       "       [    52,  89540],\n",
       "       [    42, 162140],\n",
       "       [    44,  85910],\n",
       "       [    61, 122210],\n",
       "       [    50,  56870],\n",
       "       [    58, 157300],\n",
       "       [    55, 137940],\n",
       "       [    43, 171820],\n",
       "       [    49,  26620],\n",
       "       [    51, 116160],\n",
       "       [    55, 181500],\n",
       "       [    62,  50820],\n",
       "       [    38,  70180],\n",
       "       [    50,  52030],\n",
       "       [    63, 130680],\n",
       "       [    52,  78650],\n",
       "       [    43,  94380],\n",
       "       [    49, 116160],\n",
       "       [    62, 173030],\n",
       "       [    44,  96800],\n",
       "       [    38, 110110],\n",
       "       [    40, 174240],\n",
       "       [    63, 123420],\n",
       "       [    38,  72600],\n",
       "       [    40,  64130],\n",
       "       [    39, 152460],\n",
       "       [    59, 160930],\n",
       "       [    43,  87120],\n",
       "       [    45,  96800],\n",
       "       [    38, 177870],\n",
       "       [    42,  50820],\n",
       "       [    43, 129470],\n",
       "       [    52, 104060],\n",
       "       [    41, 135520],\n",
       "       [    49,  95590],\n",
       "       [    43,  68970],\n",
       "       [    40,  96800],\n",
       "       [    49,  99220],\n",
       "       [    56, 173030],\n",
       "       [    45, 180290],\n",
       "       [    41,  71390],\n",
       "       [    53, 106480],\n",
       "       [    59, 125840],\n",
       "       [    44,  87120],\n",
       "       [    54, 176660],\n",
       "       [    38,  60500],\n",
       "       [    60, 147620],\n",
       "       [    44,  62920],\n",
       "       [    38, 117370],\n",
       "       [    47,  47190],\n",
       "       [    40,  62920],\n",
       "       [    51, 162140],\n",
       "       [    40, 176660],\n",
       "       [    53,  53240],\n",
       "       [    55, 108900],\n",
       "       [    44,  87120],\n",
       "       [    43,  68970],\n",
       "       [    61, 114950],\n",
       "       [    48, 158510],\n",
       "       [    38,  93170],\n",
       "       [    39, 174240],\n",
       "       [    58, 151250],\n",
       "       [    38,  87120],\n",
       "       [    51, 108900],\n",
       "       [    45, 130680],\n",
       "       [    43,  90750],\n",
       "       [    40,  89540],\n",
       "       [    50, 174240],\n",
       "       [    43,  73810],\n",
       "       [    46, 160930],\n",
       "       [    62,  91960],\n",
       "       [    63,  50820],\n",
       "       [    42, 128260],\n",
       "       [    60,  31460],\n",
       "       [    60,  89540],\n",
       "       [    41,  85910],\n",
       "       [    52, 106480],\n",
       "       [    55,  45980],\n",
       "       [    53,  43560],\n",
       "       [    62, 106480],\n",
       "       [    38,  73810],\n",
       "       [    40,  84700],\n",
       "       [    55,  25410],\n",
       "       [    51, 170610],\n",
       "       [    40, 112530],\n",
       "       [    40,  75020],\n",
       "       [    51, 166980],\n",
       "       [    44,  95590],\n",
       "       [    40,  94380],\n",
       "       [    42, 162140],\n",
       "       [    52, 107690],\n",
       "       [    58,  47190],\n",
       "       [    40,  93170],\n",
       "       [    38,  68970],\n",
       "       [    39,  76230],\n",
       "       [    45,  88330],\n",
       "       [    46, 135520],\n",
       "       [    48,  95590],\n",
       "       [    49, 141570],\n",
       "       [    61,  45980],\n",
       "       [    51,  89540],\n",
       "       [    40, 165770],\n",
       "       [    40,  95590],\n",
       "       [    43,  72600],\n",
       "       [    45,  65340],\n",
       "       [    54, 162140],\n",
       "       [    50, 136730],\n",
       "       [    39, 151250],\n",
       "       [    41,  60500],\n",
       "       [    45,  84700],\n",
       "       [    42, 116160],\n",
       "       [    41,  60500],\n",
       "       [    52, 170610],\n",
       "       [    42,  95590],\n",
       "       [    42,  90750],\n",
       "       [    57, 125840],\n",
       "       [    38,  66550],\n",
       "       [    48,  38720],\n",
       "       [    39,  72600],\n",
       "       [    55, 166980],\n",
       "       [    56,  99220],\n",
       "       [    44,  62920],\n",
       "       [    51,  36300],\n",
       "       [    51, 158510],\n",
       "       [    44,  72600],\n",
       "       [    44,  87120],\n",
       "       [    45,  90750],\n",
       "       [    39, 142780],\n",
       "       [    50, 129470],\n",
       "       [    41,  61710],\n",
       "       [    51, 143990],\n",
       "       [    45,  78650],\n",
       "       [    43,  78650],\n",
       "       [    60,  72600],\n",
       "       [    39,  65340],\n",
       "       [    61, 174240],\n",
       "       [    38,  95590],\n",
       "       [    41,  66550],\n",
       "       [    42, 147620],\n",
       "       [    56, 125840],\n",
       "       [    38,  90750],\n",
       "       [    41,  78650],\n",
       "       [    50,  61710],\n",
       "       [    50, 127050],\n",
       "       [    44,  76230],\n",
       "       [    56,  87120],\n",
       "       [    57, 130680],\n",
       "       [    42,  93170],\n",
       "       [    41,  73810],\n",
       "       [    41, 136730],\n",
       "       [    40,  90750],\n",
       "       [    45, 108900],\n",
       "       [    40,  68970],\n",
       "       [    39, 119790],\n",
       "       [    63,  41140],\n",
       "       [    57,  84700],\n",
       "       [    44,  87120],\n",
       "       [    43,  85910],\n",
       "       [    45,  65340],\n",
       "       [    46, 156090],\n",
       "       [    56,  41140],\n",
       "       [    50,  60500],\n",
       "       [    45,  95590],\n",
       "       [    45, 125840],\n",
       "       [    62,  35090],\n",
       "       [    61,  56870],\n",
       "       [    49, 106480],\n",
       "       [    41,  85910],\n",
       "       [    57,  31460],\n",
       "       [    63,  55660],\n",
       "       [    63, 100430],\n",
       "       [    42,  88330],\n",
       "       [    62, 157300],\n",
       "       [    40,  96800],\n",
       "       [    49,  38720],\n",
       "       [    49,  89540],\n",
       "       [    45,  64130],\n",
       "       [    44, 105270],\n",
       "       [    61,  27830],\n",
       "       [    45,  77440],\n",
       "       [    51,  39930],\n",
       "       [    47, 168190],\n",
       "       [    52,  33880],\n",
       "       [    60,  39930],\n",
       "       [    59,  72600],\n",
       "       [    52,  47190],\n",
       "       [    42,  85910],\n",
       "       [    50,  41140],\n",
       "       [    51,  42350],\n",
       "       [    51,  39930],\n",
       "       [    50,  27830],\n",
       "       [    48,  54450],\n",
       "       [    63,  50820],\n",
       "       [    42,  71390],\n",
       "       [    49,  49610],\n",
       "       [    54,  27830],\n",
       "       [    53,  24200],\n",
       "       [    39,  39930],\n",
       "       [    52,  43560]])"
      ]
     },
     "execution_count": 30,
     "metadata": {},
     "output_type": "execute_result"
    }
   ],
   "source": [
    "X"
   ]
  },
  {
   "cell_type": "markdown",
   "id": "baf7c57e",
   "metadata": {},
   "source": [
    "## Step 4: Split the dataset into training set and testing set"
   ]
  },
  {
   "cell_type": "code",
   "execution_count": 31,
   "id": "5c217a9b",
   "metadata": {},
   "outputs": [],
   "source": [
    "from sklearn.model_selection import train_test_split\n",
    "xtrain,xtest,ytrain,ytest=train_test_split(X,Y,test_size=0.2)"
   ]
  },
  {
   "cell_type": "markdown",
   "id": "b69b9d1b",
   "metadata": {},
   "source": [
    "## Step 5: Building a KNN Classifier"
   ]
  },
  {
   "cell_type": "code",
   "execution_count": 32,
   "id": "1c527e95",
   "metadata": {},
   "outputs": [],
   "source": [
    "from sklearn.neighbors import KNeighborsClassifier\n",
    "KNN=KNeighborsClassifier()"
   ]
  },
  {
   "cell_type": "code",
   "execution_count": 33,
   "id": "0b856365",
   "metadata": {},
   "outputs": [
    {
     "data": {
      "text/html": [
       "<style>#sk-container-id-2 {color: black;}#sk-container-id-2 pre{padding: 0;}#sk-container-id-2 div.sk-toggleable {background-color: white;}#sk-container-id-2 label.sk-toggleable__label {cursor: pointer;display: block;width: 100%;margin-bottom: 0;padding: 0.3em;box-sizing: border-box;text-align: center;}#sk-container-id-2 label.sk-toggleable__label-arrow:before {content: \"▸\";float: left;margin-right: 0.25em;color: #696969;}#sk-container-id-2 label.sk-toggleable__label-arrow:hover:before {color: black;}#sk-container-id-2 div.sk-estimator:hover label.sk-toggleable__label-arrow:before {color: black;}#sk-container-id-2 div.sk-toggleable__content {max-height: 0;max-width: 0;overflow: hidden;text-align: left;background-color: #f0f8ff;}#sk-container-id-2 div.sk-toggleable__content pre {margin: 0.2em;color: black;border-radius: 0.25em;background-color: #f0f8ff;}#sk-container-id-2 input.sk-toggleable__control:checked~div.sk-toggleable__content {max-height: 200px;max-width: 100%;overflow: auto;}#sk-container-id-2 input.sk-toggleable__control:checked~label.sk-toggleable__label-arrow:before {content: \"▾\";}#sk-container-id-2 div.sk-estimator input.sk-toggleable__control:checked~label.sk-toggleable__label {background-color: #d4ebff;}#sk-container-id-2 div.sk-label input.sk-toggleable__control:checked~label.sk-toggleable__label {background-color: #d4ebff;}#sk-container-id-2 input.sk-hidden--visually {border: 0;clip: rect(1px 1px 1px 1px);clip: rect(1px, 1px, 1px, 1px);height: 1px;margin: -1px;overflow: hidden;padding: 0;position: absolute;width: 1px;}#sk-container-id-2 div.sk-estimator {font-family: monospace;background-color: #f0f8ff;border: 1px dotted black;border-radius: 0.25em;box-sizing: border-box;margin-bottom: 0.5em;}#sk-container-id-2 div.sk-estimator:hover {background-color: #d4ebff;}#sk-container-id-2 div.sk-parallel-item::after {content: \"\";width: 100%;border-bottom: 1px solid gray;flex-grow: 1;}#sk-container-id-2 div.sk-label:hover label.sk-toggleable__label {background-color: #d4ebff;}#sk-container-id-2 div.sk-serial::before {content: \"\";position: absolute;border-left: 1px solid gray;box-sizing: border-box;top: 0;bottom: 0;left: 50%;z-index: 0;}#sk-container-id-2 div.sk-serial {display: flex;flex-direction: column;align-items: center;background-color: white;padding-right: 0.2em;padding-left: 0.2em;position: relative;}#sk-container-id-2 div.sk-item {position: relative;z-index: 1;}#sk-container-id-2 div.sk-parallel {display: flex;align-items: stretch;justify-content: center;background-color: white;position: relative;}#sk-container-id-2 div.sk-item::before, #sk-container-id-2 div.sk-parallel-item::before {content: \"\";position: absolute;border-left: 1px solid gray;box-sizing: border-box;top: 0;bottom: 0;left: 50%;z-index: -1;}#sk-container-id-2 div.sk-parallel-item {display: flex;flex-direction: column;z-index: 1;position: relative;background-color: white;}#sk-container-id-2 div.sk-parallel-item:first-child::after {align-self: flex-end;width: 50%;}#sk-container-id-2 div.sk-parallel-item:last-child::after {align-self: flex-start;width: 50%;}#sk-container-id-2 div.sk-parallel-item:only-child::after {width: 0;}#sk-container-id-2 div.sk-dashed-wrapped {border: 1px dashed gray;margin: 0 0.4em 0.5em 0.4em;box-sizing: border-box;padding-bottom: 0.4em;background-color: white;}#sk-container-id-2 div.sk-label label {font-family: monospace;font-weight: bold;display: inline-block;line-height: 1.2em;}#sk-container-id-2 div.sk-label-container {text-align: center;}#sk-container-id-2 div.sk-container {/* jupyter's `normalize.less` sets `[hidden] { display: none; }` but bootstrap.min.css set `[hidden] { display: none !important; }` so we also need the `!important` here to be able to override the default hidden behavior on the sphinx rendered scikit-learn.org. See: https://github.com/scikit-learn/scikit-learn/issues/21755 */display: inline-block !important;position: relative;}#sk-container-id-2 div.sk-text-repr-fallback {display: none;}</style><div id=\"sk-container-id-2\" class=\"sk-top-container\"><div class=\"sk-text-repr-fallback\"><pre>KNeighborsClassifier()</pre><b>In a Jupyter environment, please rerun this cell to show the HTML representation or trust the notebook. <br />On GitHub, the HTML representation is unable to render, please try loading this page with nbviewer.org.</b></div><div class=\"sk-container\" hidden><div class=\"sk-item\"><div class=\"sk-estimator sk-toggleable\"><input class=\"sk-toggleable__control sk-hidden--visually\" id=\"sk-estimator-id-2\" type=\"checkbox\" checked><label for=\"sk-estimator-id-2\" class=\"sk-toggleable__label sk-toggleable__label-arrow\">KNeighborsClassifier</label><div class=\"sk-toggleable__content\"><pre>KNeighborsClassifier()</pre></div></div></div></div></div>"
      ],
      "text/plain": [
       "KNeighborsClassifier()"
      ]
     },
     "execution_count": 33,
     "metadata": {},
     "output_type": "execute_result"
    }
   ],
   "source": [
    "KNN.fit(xtrain,ytrain)"
   ]
  },
  {
   "cell_type": "markdown",
   "id": "4ca96087",
   "metadata": {},
   "source": [
    "## Step 6: Validate the model with text input"
   ]
  },
  {
   "cell_type": "code",
   "execution_count": 34,
   "id": "e5c33f04",
   "metadata": {},
   "outputs": [],
   "source": [
    "ypred=KNN.predict(xtest)"
   ]
  },
  {
   "cell_type": "code",
   "execution_count": 35,
   "id": "bed11465",
   "metadata": {},
   "outputs": [
    {
     "data": {
      "text/plain": [
       "array([1, 0, 0, 0, 0, 0, 0, 1, 0, 0, 0, 1, 0, 1, 0, 0, 0, 0, 1, 1, 0, 0,\n",
       "       0, 0, 0, 0, 0, 0, 0, 0, 0, 0, 0, 1, 1, 0, 1, 0, 1, 0, 1, 0, 0, 0,\n",
       "       1, 0, 0, 0, 0, 0, 0, 0, 0, 0, 1, 1, 0, 0, 0, 1, 0, 0, 0, 0, 1, 1,\n",
       "       0, 0, 1, 0, 1, 0, 1, 1, 0, 0, 0, 0, 1, 0])"
      ]
     },
     "execution_count": 35,
     "metadata": {},
     "output_type": "execute_result"
    }
   ],
   "source": [
    "ypred"
   ]
  },
  {
   "cell_type": "code",
   "execution_count": 36,
   "id": "a00c7aa9",
   "metadata": {},
   "outputs": [
    {
     "data": {
      "text/plain": [
       "array([1, 0, 0, 0, 1, 0, 0, 1, 1, 1, 0, 0, 1, 0, 0, 0, 0, 0, 1, 1, 0, 0,\n",
       "       0, 0, 0, 0, 0, 0, 1, 0, 0, 0, 0, 1, 1, 0, 1, 0, 1, 0, 1, 0, 0, 0,\n",
       "       1, 0, 1, 0, 1, 0, 0, 0, 0, 0, 1, 0, 1, 0, 0, 0, 0, 0, 0, 0, 1, 1,\n",
       "       0, 0, 0, 0, 1, 0, 1, 0, 0, 0, 0, 0, 1, 1])"
      ]
     },
     "execution_count": 36,
     "metadata": {},
     "output_type": "execute_result"
    }
   ],
   "source": [
    "ytest"
   ]
  },
  {
   "cell_type": "markdown",
   "id": "869598e6",
   "metadata": {},
   "source": [
    "## Step 7: Performance Metric in term of confusion matrix"
   ]
  },
  {
   "cell_type": "code",
   "execution_count": 37,
   "id": "7e4ea22e",
   "metadata": {},
   "outputs": [
    {
     "data": {
      "text/plain": [
       "array([[49,  6],\n",
       "       [ 9, 16]])"
      ]
     },
     "execution_count": 37,
     "metadata": {},
     "output_type": "execute_result"
    }
   ],
   "source": [
    "from sklearn.metrics import confusion_matrix,accuracy_score,classification_report\n",
    "CM=confusion_matrix(ytest,ypred)\n",
    "CM"
   ]
  },
  {
   "cell_type": "code",
   "execution_count": 38,
   "id": "1c2eb528",
   "metadata": {},
   "outputs": [
    {
     "data": {
      "text/plain": [
       "(80,)"
      ]
     },
     "execution_count": 38,
     "metadata": {},
     "output_type": "execute_result"
    }
   ],
   "source": [
    "ytest.shape"
   ]
  },
  {
   "cell_type": "code",
   "execution_count": 39,
   "id": "a4201118",
   "metadata": {},
   "outputs": [
    {
     "name": "stdout",
     "output_type": "stream",
     "text": [
      "0.8125\n"
     ]
    }
   ],
   "source": [
    "print(accuracy_score(ytest,ypred))"
   ]
  },
  {
   "cell_type": "markdown",
   "id": "a214d5bf",
   "metadata": {},
   "source": [
    "## Precision and Recall Values"
   ]
  },
  {
   "cell_type": "code",
   "execution_count": 40,
   "id": "63a8b3fb",
   "metadata": {},
   "outputs": [
    {
     "name": "stdout",
     "output_type": "stream",
     "text": [
      "              precision    recall  f1-score   support\n",
      "\n",
      "           0       0.84      0.89      0.87        55\n",
      "           1       0.73      0.64      0.68        25\n",
      "\n",
      "    accuracy                           0.81        80\n",
      "   macro avg       0.79      0.77      0.77        80\n",
      "weighted avg       0.81      0.81      0.81        80\n",
      "\n"
     ]
    }
   ],
   "source": [
    "print(classification_report(ytest, ypred))"
   ]
  },
  {
   "cell_type": "markdown",
   "id": "0b07c0ba",
   "metadata": {},
   "source": [
    "## Naive Bias's, Decision Tree and Random Forest as classifier"
   ]
  },
  {
   "cell_type": "code",
   "execution_count": 42,
   "id": "8b8faca2",
   "metadata": {},
   "outputs": [],
   "source": [
    "from sklearn.naive_bayes import GaussianNB\n",
    "from sklearn.tree import DecisionTreeClassifier\n",
    "from sklearn.ensemble import RandomForestClassifier\n",
    "gnb= GaussianNB()\n",
    "dtc= DecisionTreeClassifier(criterion='entropy', max_depth=3)\n",
    "rfc= RandomForestClassifier(n_estimators=700,criterion='entropy')"
   ]
  },
  {
   "cell_type": "markdown",
   "id": "3ac7254a",
   "metadata": {},
   "source": [
    "## Building a Naive Baye's Classifier"
   ]
  },
  {
   "cell_type": "code",
   "execution_count": 43,
   "id": "5f22f74a",
   "metadata": {},
   "outputs": [
    {
     "data": {
      "text/html": [
       "<style>#sk-container-id-3 {color: black;}#sk-container-id-3 pre{padding: 0;}#sk-container-id-3 div.sk-toggleable {background-color: white;}#sk-container-id-3 label.sk-toggleable__label {cursor: pointer;display: block;width: 100%;margin-bottom: 0;padding: 0.3em;box-sizing: border-box;text-align: center;}#sk-container-id-3 label.sk-toggleable__label-arrow:before {content: \"▸\";float: left;margin-right: 0.25em;color: #696969;}#sk-container-id-3 label.sk-toggleable__label-arrow:hover:before {color: black;}#sk-container-id-3 div.sk-estimator:hover label.sk-toggleable__label-arrow:before {color: black;}#sk-container-id-3 div.sk-toggleable__content {max-height: 0;max-width: 0;overflow: hidden;text-align: left;background-color: #f0f8ff;}#sk-container-id-3 div.sk-toggleable__content pre {margin: 0.2em;color: black;border-radius: 0.25em;background-color: #f0f8ff;}#sk-container-id-3 input.sk-toggleable__control:checked~div.sk-toggleable__content {max-height: 200px;max-width: 100%;overflow: auto;}#sk-container-id-3 input.sk-toggleable__control:checked~label.sk-toggleable__label-arrow:before {content: \"▾\";}#sk-container-id-3 div.sk-estimator input.sk-toggleable__control:checked~label.sk-toggleable__label {background-color: #d4ebff;}#sk-container-id-3 div.sk-label input.sk-toggleable__control:checked~label.sk-toggleable__label {background-color: #d4ebff;}#sk-container-id-3 input.sk-hidden--visually {border: 0;clip: rect(1px 1px 1px 1px);clip: rect(1px, 1px, 1px, 1px);height: 1px;margin: -1px;overflow: hidden;padding: 0;position: absolute;width: 1px;}#sk-container-id-3 div.sk-estimator {font-family: monospace;background-color: #f0f8ff;border: 1px dotted black;border-radius: 0.25em;box-sizing: border-box;margin-bottom: 0.5em;}#sk-container-id-3 div.sk-estimator:hover {background-color: #d4ebff;}#sk-container-id-3 div.sk-parallel-item::after {content: \"\";width: 100%;border-bottom: 1px solid gray;flex-grow: 1;}#sk-container-id-3 div.sk-label:hover label.sk-toggleable__label {background-color: #d4ebff;}#sk-container-id-3 div.sk-serial::before {content: \"\";position: absolute;border-left: 1px solid gray;box-sizing: border-box;top: 0;bottom: 0;left: 50%;z-index: 0;}#sk-container-id-3 div.sk-serial {display: flex;flex-direction: column;align-items: center;background-color: white;padding-right: 0.2em;padding-left: 0.2em;position: relative;}#sk-container-id-3 div.sk-item {position: relative;z-index: 1;}#sk-container-id-3 div.sk-parallel {display: flex;align-items: stretch;justify-content: center;background-color: white;position: relative;}#sk-container-id-3 div.sk-item::before, #sk-container-id-3 div.sk-parallel-item::before {content: \"\";position: absolute;border-left: 1px solid gray;box-sizing: border-box;top: 0;bottom: 0;left: 50%;z-index: -1;}#sk-container-id-3 div.sk-parallel-item {display: flex;flex-direction: column;z-index: 1;position: relative;background-color: white;}#sk-container-id-3 div.sk-parallel-item:first-child::after {align-self: flex-end;width: 50%;}#sk-container-id-3 div.sk-parallel-item:last-child::after {align-self: flex-start;width: 50%;}#sk-container-id-3 div.sk-parallel-item:only-child::after {width: 0;}#sk-container-id-3 div.sk-dashed-wrapped {border: 1px dashed gray;margin: 0 0.4em 0.5em 0.4em;box-sizing: border-box;padding-bottom: 0.4em;background-color: white;}#sk-container-id-3 div.sk-label label {font-family: monospace;font-weight: bold;display: inline-block;line-height: 1.2em;}#sk-container-id-3 div.sk-label-container {text-align: center;}#sk-container-id-3 div.sk-container {/* jupyter's `normalize.less` sets `[hidden] { display: none; }` but bootstrap.min.css set `[hidden] { display: none !important; }` so we also need the `!important` here to be able to override the default hidden behavior on the sphinx rendered scikit-learn.org. See: https://github.com/scikit-learn/scikit-learn/issues/21755 */display: inline-block !important;position: relative;}#sk-container-id-3 div.sk-text-repr-fallback {display: none;}</style><div id=\"sk-container-id-3\" class=\"sk-top-container\"><div class=\"sk-text-repr-fallback\"><pre>GaussianNB()</pre><b>In a Jupyter environment, please rerun this cell to show the HTML representation or trust the notebook. <br />On GitHub, the HTML representation is unable to render, please try loading this page with nbviewer.org.</b></div><div class=\"sk-container\" hidden><div class=\"sk-item\"><div class=\"sk-estimator sk-toggleable\"><input class=\"sk-toggleable__control sk-hidden--visually\" id=\"sk-estimator-id-3\" type=\"checkbox\" checked><label for=\"sk-estimator-id-3\" class=\"sk-toggleable__label sk-toggleable__label-arrow\">GaussianNB</label><div class=\"sk-toggleable__content\"><pre>GaussianNB()</pre></div></div></div></div></div>"
      ],
      "text/plain": [
       "GaussianNB()"
      ]
     },
     "execution_count": 43,
     "metadata": {},
     "output_type": "execute_result"
    }
   ],
   "source": [
    "gnb.fit(xtrain,ytrain)"
   ]
  },
  {
   "cell_type": "code",
   "execution_count": 44,
   "id": "63a152bd",
   "metadata": {},
   "outputs": [],
   "source": [
    "ypred_gnb = gnb.predict(xtest)"
   ]
  },
  {
   "cell_type": "markdown",
   "id": "9d79f024",
   "metadata": {},
   "source": [
    "## Testing score and Testing score"
   ]
  },
  {
   "cell_type": "code",
   "execution_count": 46,
   "id": "c4ade04c",
   "metadata": {},
   "outputs": [
    {
     "name": "stdout",
     "output_type": "stream",
     "text": [
      "The testing set score of naive bayes Model is 0.8875\n",
      "The testing set score of naive bayes Model is 0.896875\n"
     ]
    }
   ],
   "source": [
    "print(f\"The testing set score of naive bayes Model is {gnb.score(xtest,ytest)}\")\n",
    "print(f\"The testing set score of naive bayes Model is {gnb.score(xtrain,ytrain)}\")"
   ]
  },
  {
   "cell_type": "code",
   "execution_count": 48,
   "id": "0e5b9fd5",
   "metadata": {},
   "outputs": [],
   "source": [
    "from sklearn.metrics import precision_score,confusion_matrix,accuracy_score,mean_squared_error, f1_score, recall_score"
   ]
  },
  {
   "cell_type": "code",
   "execution_count": 54,
   "id": "175aa570",
   "metadata": {},
   "outputs": [
    {
     "name": "stdout",
     "output_type": "stream",
     "text": [
      "The confusion matrix of Naive Bayes Model is\n",
      "[[51  4]\n",
      " [ 5 20]]\n",
      "The  The accuracy score is 0.8875\n",
      "The precision score is [0.91071429 0.83333333]\n",
      "The F1 score is 0.816326530612245\n",
      "The MSE score is0.1125\n"
     ]
    }
   ],
   "source": [
    "print(f\"The confusion matrix of Naive Bayes Model is\")\n",
    "print(confusion_matrix(ytest,ypred_gnb))\n",
    "print(f\"The  The accuracy score is {accuracy_score(ytest,ypred_gnb)}\")\n",
    "print(f\"The precision score is {precision_score(ytest,ypred_gnb,average=None,zero_division=0)}\")\n",
    "print(f\"The F1 score is {f1_score(ytest,ypred_gnb)}\")\n",
    "print(f\"The MSE score is{mean_squared_error(ytest,ypred_gnb)}\")"
   ]
  },
  {
   "cell_type": "code",
   "execution_count": 53,
   "id": "3d6ff439",
   "metadata": {},
   "outputs": [
    {
     "name": "stdout",
     "output_type": "stream",
     "text": [
      "The MSE score is              precision    recall  f1-score   support\n",
      "\n",
      "           0       0.91      0.93      0.92        55\n",
      "           1       0.83      0.80      0.82        25\n",
      "\n",
      "    accuracy                           0.89        80\n",
      "   macro avg       0.87      0.86      0.87        80\n",
      "weighted avg       0.89      0.89      0.89        80\n",
      "\n"
     ]
    }
   ],
   "source": [
    "#### Classification report\n",
    "from sklearn.metrics import classification_report\n",
    "print(f\"The MSE score is{classification_report(ytest,ypred_gnb)}\")"
   ]
  },
  {
   "cell_type": "markdown",
   "id": "2d87d218",
   "metadata": {},
   "source": [
    "## Similarily do it for DT and Random forest. Compare all models and comment on which model need to be used for the given dataset"
   ]
  }
 ],
 "metadata": {
  "kernelspec": {
   "display_name": "Python 3 (ipykernel)",
   "language": "python",
   "name": "python3"
  },
  "language_info": {
   "codemirror_mode": {
    "name": "ipython",
    "version": 3
   },
   "file_extension": ".py",
   "mimetype": "text/x-python",
   "name": "python",
   "nbconvert_exporter": "python",
   "pygments_lexer": "ipython3",
   "version": "3.11.4"
  }
 },
 "nbformat": 4,
 "nbformat_minor": 5
}
