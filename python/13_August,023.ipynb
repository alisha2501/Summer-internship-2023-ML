{
  "nbformat": 4,
  "nbformat_minor": 0,
  "metadata": {
    "colab": {
      "provenance": []
    },
    "kernelspec": {
      "name": "python3",
      "display_name": "Python 3"
    },
    "language_info": {
      "name": "python"
    }
  },
  "cells": [
    {
      "cell_type": "markdown",
      "source": [
        "\n",
        "\n",
        "**use of range operator**\n",
        "\n"
      ],
      "metadata": {
        "id": "YkdVPvSILcQN"
      }
    },
    {
      "cell_type": "markdown",
      "source": [
        "*WAP to check whether the no. is even or not, if even,print the number is even else print the number is odd*"
      ],
      "metadata": {
        "id": "6Vc4xmxC9r-A"
      }
    },
    {
      "cell_type": "code",
      "source": [
        "l=[1,2,3,4,5,6]\n",
        "for a in l:\n",
        "  if a%2==0:\n",
        "    print(f\"the number {a} is even\")\n",
        "  else:\n",
        "    print(f\"the number {a} is odd\")"
      ],
      "metadata": {
        "colab": {
          "base_uri": "https://localhost:8080/"
        },
        "id": "zLrO3D6S-AUC",
        "outputId": "5617b76e-44ae-4ef2-e948-61b27fb4b07f"
      },
      "execution_count": 3,
      "outputs": [
        {
          "output_type": "stream",
          "name": "stdout",
          "text": [
            "the number 1 is odd\n",
            "the number 2 is even\n",
            "the number 3 is odd\n",
            "the number 4 is even\n",
            "the number 5 is odd\n",
            "the number 6 is even\n"
          ]
        }
      ]
    },
    {
      "cell_type": "code",
      "source": [
        "for a in range(1,9): #range(first,end+1)\n",
        "  if a%2==0:\n",
        "    print(f\"the number {a} is even\")\n",
        "  else:\n",
        "    print(f\"the number {a} is odd\")"
      ],
      "metadata": {
        "colab": {
          "base_uri": "https://localhost:8080/"
        },
        "id": "0PHLgYFs_fwC",
        "outputId": "d7031e49-7919-4b2d-8ec1-a5a223060cb1"
      },
      "execution_count": 4,
      "outputs": [
        {
          "output_type": "stream",
          "name": "stdout",
          "text": [
            "the number 1 is odd\n",
            "the number 2 is even\n",
            "the number 3 is odd\n",
            "the number 4 is even\n",
            "the number 5 is odd\n",
            "the number 6 is even\n",
            "the number 7 is odd\n",
            "the number 8 is even\n"
          ]
        }
      ]
    },
    {
      "cell_type": "code",
      "source": [
        "for a in range(0,9,2): #range is used to generate info instead of saving it to memory\n",
        "  print(a)"
      ],
      "metadata": {
        "colab": {
          "base_uri": "https://localhost:8080/"
        },
        "id": "Uhh360mv_4Sd",
        "outputId": "faa337f9-a390-4971-d110-5d07098855e5"
      },
      "execution_count": 6,
      "outputs": [
        {
          "output_type": "stream",
          "name": "stdout",
          "text": [
            "0\n",
            "2\n",
            "4\n",
            "6\n",
            "8\n"
          ]
        }
      ]
    },
    {
      "cell_type": "code",
      "source": [
        "for a in range(1,11):\n",
        "  if a%2==0:\n",
        "    print(f\"the number {a} is even\")\n",
        "  else:\n",
        "    print(f\"the number {a} is odd\")"
      ],
      "metadata": {
        "colab": {
          "base_uri": "https://localhost:8080/"
        },
        "id": "N2w3xY4aAbaF",
        "outputId": "b4352583-68f3-48e7-af89-f1939f79e809"
      },
      "execution_count": 7,
      "outputs": [
        {
          "output_type": "stream",
          "name": "stdout",
          "text": [
            "the number 1 is odd\n",
            "the number 2 is even\n",
            "the number 3 is odd\n",
            "the number 4 is even\n",
            "the number 5 is odd\n",
            "the number 6 is even\n",
            "the number 7 is odd\n",
            "the number 8 is even\n",
            "the number 9 is odd\n",
            "the number 10 is even\n"
          ]
        }
      ]
    },
    {
      "cell_type": "code",
      "source": [
        "list(range(0,6,2)) #to generate and display the number, cast the range operator to list"
      ],
      "metadata": {
        "colab": {
          "base_uri": "https://localhost:8080/"
        },
        "id": "ETsewR8HBaya",
        "outputId": "27b14c7f-87f3-48de-8e2e-946185acec7a"
      },
      "execution_count": 8,
      "outputs": [
        {
          "output_type": "execute_result",
          "data": {
            "text/plain": [
              "[0, 2, 4]"
            ]
          },
          "metadata": {},
          "execution_count": 8
        }
      ]
    },
    {
      "cell_type": "markdown",
      "source": [
        "**use of enumerate operator**"
      ],
      "metadata": {
        "id": "pnMcP9U6JXJg"
      }
    },
    {
      "cell_type": "markdown",
      "source": [
        "*WAP to print the index and its corresponding value as a tuple for a given list of values*"
      ],
      "metadata": {
        "id": "EBcx4EzpBnlJ"
      }
    },
    {
      "cell_type": "code",
      "source": [
        "l=[4,8,5,9,10,1]\n",
        "i=0\n",
        "for a in l:\n",
        "  print(f\"({i},{a})\")\n",
        "  i=i+1"
      ],
      "metadata": {
        "colab": {
          "base_uri": "https://localhost:8080/"
        },
        "id": "rMZDgalkB7yj",
        "outputId": "a4a54eb9-9f7e-4287-a23d-3b94a9058846"
      },
      "execution_count": 10,
      "outputs": [
        {
          "output_type": "stream",
          "name": "stdout",
          "text": [
            "(0,4)\n",
            "(1,8)\n",
            "(2,5)\n",
            "(3,9)\n",
            "(4,10)\n",
            "(5,1)\n"
          ]
        }
      ]
    },
    {
      "cell_type": "markdown",
      "source": [
        "*the output in above case is not in form of tuple.So to have output in form of tuple use an operator called as \"enumerate\"*"
      ],
      "metadata": {
        "id": "nrDPvdNMDhlH"
      }
    },
    {
      "cell_type": "code",
      "source": [
        "for a in enumerate(l):\n",
        "  print(a)"
      ],
      "metadata": {
        "colab": {
          "base_uri": "https://localhost:8080/"
        },
        "id": "o3Gm9WR4Dt63",
        "outputId": "1c9816ec-d8ba-45b8-cec2-f02cea7db3cb"
      },
      "execution_count": 11,
      "outputs": [
        {
          "output_type": "stream",
          "name": "stdout",
          "text": [
            "(0, 4)\n",
            "(1, 8)\n",
            "(2, 5)\n",
            "(3, 9)\n",
            "(4, 10)\n",
            "(5, 1)\n"
          ]
        }
      ]
    },
    {
      "cell_type": "markdown",
      "source": [
        "*From the above,Enumerate operator returns a tuple with the index and its value without incrementing the index itself*"
      ],
      "metadata": {
        "id": "HXdan-07Ecqx"
      }
    },
    {
      "cell_type": "code",
      "source": [
        "for a in range(0,len(l)):\n",
        "  print(f\"{a},{l[a]}\")"
      ],
      "metadata": {
        "colab": {
          "base_uri": "https://localhost:8080/"
        },
        "id": "y-paVGMBEthO",
        "outputId": "5d981ccc-3415-40d7-ccfc-4013e8fddc00"
      },
      "execution_count": 16,
      "outputs": [
        {
          "output_type": "stream",
          "name": "stdout",
          "text": [
            "0,4\n",
            "1,8\n",
            "2,5\n",
            "3,9\n",
            "4,10\n",
            "5,1\n"
          ]
        }
      ]
    },
    {
      "cell_type": "code",
      "source": [
        "for a,b in enumerate(l):\n",
        "  print(f\"{a},{b}\")"
      ],
      "metadata": {
        "colab": {
          "base_uri": "https://localhost:8080/"
        },
        "id": "J6zSnng2F7qe",
        "outputId": "b3574ffe-5fc1-4cc1-f515-3eda4e6e9932"
      },
      "execution_count": 13,
      "outputs": [
        {
          "output_type": "stream",
          "name": "stdout",
          "text": [
            "0,4\n",
            "1,8\n",
            "2,5\n",
            "3,9\n",
            "4,10\n",
            "5,1\n"
          ]
        }
      ]
    },
    {
      "cell_type": "code",
      "source": [
        "l"
      ],
      "metadata": {
        "colab": {
          "base_uri": "https://localhost:8080/"
        },
        "id": "-SL_YYjxGQ01",
        "outputId": "98fbd97e-8cdd-4d93-ebb2-2fb9e2979415"
      },
      "execution_count": 14,
      "outputs": [
        {
          "output_type": "execute_result",
          "data": {
            "text/plain": [
              "[4, 8, 5, 9, 10, 1]"
            ]
          },
          "metadata": {},
          "execution_count": 14
        }
      ]
    },
    {
      "cell_type": "code",
      "source": [
        "len(l)"
      ],
      "metadata": {
        "colab": {
          "base_uri": "https://localhost:8080/"
        },
        "id": "IEVDsca0GT-H",
        "outputId": "1a2bbf3a-5e73-4da1-e8b4-c2a5d836a738"
      },
      "execution_count": 15,
      "outputs": [
        {
          "output_type": "execute_result",
          "data": {
            "text/plain": [
              "6"
            ]
          },
          "metadata": {},
          "execution_count": 15
        }
      ]
    },
    {
      "cell_type": "code",
      "source": [
        "l1=list(range(0,len(l)))\n",
        "l1"
      ],
      "metadata": {
        "colab": {
          "base_uri": "https://localhost:8080/"
        },
        "id": "psT_O9T-Gxxv",
        "outputId": "43789aa2-44cd-48cf-9660-9f8994fcd497"
      },
      "execution_count": 19,
      "outputs": [
        {
          "output_type": "execute_result",
          "data": {
            "text/plain": [
              "[0, 1, 2, 3, 4, 5]"
            ]
          },
          "metadata": {},
          "execution_count": 19
        }
      ]
    },
    {
      "cell_type": "markdown",
      "source": [
        "**use of zip operator**"
      ],
      "metadata": {
        "id": "zkA569xYJPZk"
      }
    },
    {
      "cell_type": "code",
      "source": [
        "zip(l1,l) #shows the location"
      ],
      "metadata": {
        "colab": {
          "base_uri": "https://localhost:8080/"
        },
        "id": "QV5mkXo5G9rW",
        "outputId": "f074f74e-a7ea-496d-c80e-8d614a129fec"
      },
      "execution_count": 20,
      "outputs": [
        {
          "output_type": "execute_result",
          "data": {
            "text/plain": [
              "<zip at 0x7ddcab3d2540>"
            ]
          },
          "metadata": {},
          "execution_count": 20
        }
      ]
    },
    {
      "cell_type": "code",
      "source": [
        "list(zip(l1,l))"
      ],
      "metadata": {
        "colab": {
          "base_uri": "https://localhost:8080/"
        },
        "id": "H1iMhis4HF5T",
        "outputId": "e1588352-da44-4b85-d8b5-63b32ce6c530"
      },
      "execution_count": 21,
      "outputs": [
        {
          "output_type": "execute_result",
          "data": {
            "text/plain": [
              "[(0, 4), (1, 8), (2, 5), (3, 9), (4, 10), (5, 1)]"
            ]
          },
          "metadata": {},
          "execution_count": 21
        }
      ]
    },
    {
      "cell_type": "code",
      "source": [
        "l2=list(range(0,len(l1)))\n",
        "l2"
      ],
      "metadata": {
        "colab": {
          "base_uri": "https://localhost:8080/"
        },
        "id": "OJ7CkFjwHU5p",
        "outputId": "7d085569-cab6-404e-9d0d-69b84151fdc2"
      },
      "execution_count": 23,
      "outputs": [
        {
          "output_type": "execute_result",
          "data": {
            "text/plain": [
              "[0, 1, 2, 3, 4, 5]"
            ]
          },
          "metadata": {},
          "execution_count": 23
        }
      ]
    },
    {
      "cell_type": "code",
      "source": [
        "zip(l2,l1,l)"
      ],
      "metadata": {
        "colab": {
          "base_uri": "https://localhost:8080/"
        },
        "id": "PKeMNvnLHePK",
        "outputId": "42392b87-8c04-496a-b39b-d4639e569ce4"
      },
      "execution_count": 24,
      "outputs": [
        {
          "output_type": "execute_result",
          "data": {
            "text/plain": [
              "<zip at 0x7ddcab466b80>"
            ]
          },
          "metadata": {},
          "execution_count": 24
        }
      ]
    },
    {
      "cell_type": "code",
      "source": [
        "list(zip(l2,l1,l))"
      ],
      "metadata": {
        "colab": {
          "base_uri": "https://localhost:8080/"
        },
        "id": "_jUPii79HlCF",
        "outputId": "d4687a1a-75cb-485a-a744-f17a755db65f"
      },
      "execution_count": 25,
      "outputs": [
        {
          "output_type": "execute_result",
          "data": {
            "text/plain": [
              "[(0, 0, 4), (1, 1, 8), (2, 2, 5), (3, 3, 9), (4, 4, 10), (5, 5, 1)]"
            ]
          },
          "metadata": {},
          "execution_count": 25
        }
      ]
    },
    {
      "cell_type": "markdown",
      "source": [
        "**use of in operator**"
      ],
      "metadata": {
        "id": "SwiJD3RUJJLt"
      }
    },
    {
      "cell_type": "markdown",
      "source": [
        "*WAP which will return true if the search element is present in the list*\n",
        "\n",
        "*input: l2=[1,3,'silicon'],search element is:1*\n",
        "\n",
        "*output: true*"
      ],
      "metadata": {
        "id": "JMXeJEReHq27"
      }
    },
    {
      "cell_type": "code",
      "source": [
        "l2=[1,3,'silicon']\n",
        "1 in l2 # in is used to check if the return is true"
      ],
      "metadata": {
        "colab": {
          "base_uri": "https://localhost:8080/"
        },
        "id": "huGwJyGgIIOH",
        "outputId": "83d4b6fe-d808-4e5f-8804-9d184fb235ad"
      },
      "execution_count": 26,
      "outputs": [
        {
          "output_type": "execute_result",
          "data": {
            "text/plain": [
              "True"
            ]
          },
          "metadata": {},
          "execution_count": 26
        }
      ]
    },
    {
      "cell_type": "code",
      "source": [
        "4 in l2"
      ],
      "metadata": {
        "colab": {
          "base_uri": "https://localhost:8080/"
        },
        "id": "PkWW_iE3IPlu",
        "outputId": "7f21f723-385d-476e-d99b-b1acc25bce99"
      },
      "execution_count": 27,
      "outputs": [
        {
          "output_type": "execute_result",
          "data": {
            "text/plain": [
              "False"
            ]
          },
          "metadata": {},
          "execution_count": 27
        }
      ]
    },
    {
      "cell_type": "code",
      "source": [
        "'silicon' in l2"
      ],
      "metadata": {
        "colab": {
          "base_uri": "https://localhost:8080/"
        },
        "id": "usk9jh-UIPWz",
        "outputId": "25033476-435c-46bc-968d-96b5d50d9a20"
      },
      "execution_count": 28,
      "outputs": [
        {
          "output_type": "execute_result",
          "data": {
            "text/plain": [
              "True"
            ]
          },
          "metadata": {},
          "execution_count": 28
        }
      ]
    },
    {
      "cell_type": "code",
      "source": [
        "'silicon' in 'silicon institute of technology'"
      ],
      "metadata": {
        "colab": {
          "base_uri": "https://localhost:8080/"
        },
        "id": "SnULNfBuIeN6",
        "outputId": "52ccff27-24de-418b-897b-9adae858831c"
      },
      "execution_count": 29,
      "outputs": [
        {
          "output_type": "execute_result",
          "data": {
            "text/plain": [
              "True"
            ]
          },
          "metadata": {},
          "execution_count": 29
        }
      ]
    },
    {
      "cell_type": "code",
      "source": [
        "D={'k1':345}\n",
        "'k1' in D"
      ],
      "metadata": {
        "colab": {
          "base_uri": "https://localhost:8080/"
        },
        "id": "IfjTlaNIIoA6",
        "outputId": "69568b4d-272b-428c-f530-aaf7ae74a912"
      },
      "execution_count": 31,
      "outputs": [
        {
          "output_type": "execute_result",
          "data": {
            "text/plain": [
              "True"
            ]
          },
          "metadata": {},
          "execution_count": 31
        }
      ]
    },
    {
      "cell_type": "code",
      "source": [
        "345 in D"
      ],
      "metadata": {
        "colab": {
          "base_uri": "https://localhost:8080/"
        },
        "id": "jS0perpNJBHF",
        "outputId": "4236f15e-b555-4058-9a73-a36461647d4f"
      },
      "execution_count": 36,
      "outputs": [
        {
          "output_type": "execute_result",
          "data": {
            "text/plain": [
              "False"
            ]
          },
          "metadata": {},
          "execution_count": 36
        }
      ]
    },
    {
      "cell_type": "code",
      "source": [
        "345 in D.values()"
      ],
      "metadata": {
        "colab": {
          "base_uri": "https://localhost:8080/"
        },
        "id": "Tf_JHsYBIzWo",
        "outputId": "8f3fa444-6d24-49e1-d0d3-8d5e93eb74d5"
      },
      "execution_count": 35,
      "outputs": [
        {
          "output_type": "execute_result",
          "data": {
            "text/plain": [
              "True"
            ]
          },
          "metadata": {},
          "execution_count": 35
        }
      ]
    },
    {
      "cell_type": "markdown",
      "source": [
        "**use of min-max operator**"
      ],
      "metadata": {
        "id": "oXapeqQsJb_b"
      }
    },
    {
      "cell_type": "code",
      "source": [
        "min(l)"
      ],
      "metadata": {
        "colab": {
          "base_uri": "https://localhost:8080/"
        },
        "id": "i7Bc_Iw1JgGT",
        "outputId": "bfadae03-9c3b-49e4-d42a-d381da109036"
      },
      "execution_count": 37,
      "outputs": [
        {
          "output_type": "execute_result",
          "data": {
            "text/plain": [
              "1"
            ]
          },
          "metadata": {},
          "execution_count": 37
        }
      ]
    },
    {
      "cell_type": "code",
      "source": [
        "max(l)"
      ],
      "metadata": {
        "colab": {
          "base_uri": "https://localhost:8080/"
        },
        "id": "U0upNlRyJi6n",
        "outputId": "282c6da0-38d2-4540-f14a-178a71209ba7"
      },
      "execution_count": 38,
      "outputs": [
        {
          "output_type": "execute_result",
          "data": {
            "text/plain": [
              "10"
            ]
          },
          "metadata": {},
          "execution_count": 38
        }
      ]
    },
    {
      "cell_type": "markdown",
      "source": [
        "*WAP to generate a random number between 0 to 70.*"
      ],
      "metadata": {
        "id": "xmQbwSIwJqSp"
      }
    },
    {
      "cell_type": "code",
      "source": [
        "from random import randint\n",
        "randint(0,70)"
      ],
      "metadata": {
        "colab": {
          "base_uri": "https://localhost:8080/"
        },
        "id": "dGvqittvJphy",
        "outputId": "0f5b08b1-cadc-4ef4-81d3-e2f96f5a3638"
      },
      "execution_count": 40,
      "outputs": [
        {
          "output_type": "execute_result",
          "data": {
            "text/plain": [
              "57"
            ]
          },
          "metadata": {},
          "execution_count": 40
        }
      ]
    },
    {
      "cell_type": "markdown",
      "source": [
        "*WAP to enter a number and then check whether the number is even or not.*\n",
        "\n",
        "*use of \"input\" keyword*"
      ],
      "metadata": {
        "id": "fxsJg1N0KZ2r"
      }
    },
    {
      "cell_type": "code",
      "source": [
        "a=input(\"enter a number:\")"
      ],
      "metadata": {
        "colab": {
          "base_uri": "https://localhost:8080/"
        },
        "id": "x33TKuCuKpZY",
        "outputId": "c3785dfc-a305-4dd7-c6d4-e2252ee82976"
      },
      "execution_count": 41,
      "outputs": [
        {
          "name": "stdout",
          "output_type": "stream",
          "text": [
            "enter a number:23\n"
          ]
        }
      ]
    },
    {
      "cell_type": "code",
      "source": [
        "a=int(a)"
      ],
      "metadata": {
        "id": "kDuNHJCyLPIP"
      },
      "execution_count": 43,
      "outputs": []
    },
    {
      "cell_type": "code",
      "source": [
        "if a%2==0:\n",
        "  print(\"even\")\n",
        "else:\n",
        "  print(\"odd\")"
      ],
      "metadata": {
        "colab": {
          "base_uri": "https://localhost:8080/"
        },
        "id": "HyE6-dJEKyZU",
        "outputId": "58f60e81-5cdd-458b-ebbe-9362a91d5cfb"
      },
      "execution_count": 44,
      "outputs": [
        {
          "output_type": "stream",
          "name": "stdout",
          "text": [
            "odd\n"
          ]
        }
      ]
    }
  ]
}