{
  "cells": [
    {
      "cell_type": "markdown",
      "source": [
        "*WAP to take a list of numbers as input and return square of each number.*"
      ],
      "metadata": {
        "id": "YB-0t4oq2cWs"
      },
      "id": "YB-0t4oq2cWs"
    },
    {
      "cell_type": "code",
      "execution_count": null,
      "id": "26e9e140",
      "metadata": {
        "id": "26e9e140",
        "outputId": "124d903d-b8ec-4608-b665-0f1cffd9c3aa"
      },
      "outputs": [
        {
          "data": {
            "text/plain": [
              "[1, 4, 9, 16, 25]"
            ]
          },
          "execution_count": 10,
          "metadata": {},
          "output_type": "execute_result"
        }
      ],
      "source": [
        "\n",
        "L=[1,2,3,4,5]\n",
        "L1=[]\n",
        "def square_num(L):\n",
        "    for i in L:\n",
        "        L1.append(i**2)\n",
        "    return (L1)\n",
        "square_num(L)"
      ]
    },
    {
      "cell_type": "code",
      "execution_count": null,
      "id": "511dd2d5",
      "metadata": {
        "id": "511dd2d5",
        "outputId": "1eb67446-6652-45ee-dbfe-bc7443c4b8f5"
      },
      "outputs": [
        {
          "data": {
            "text/plain": [
              "[1, 4, 9, 16, 25]"
            ]
          },
          "execution_count": 4,
          "metadata": {},
          "output_type": "execute_result"
        }
      ],
      "source": [
        "L=[1,2,3,4,5]\n",
        "def square_num(L):\n",
        "    L1=[i**2 for i in L]\n",
        "    return (L1)\n",
        "square_num(L)"
      ]
    },
    {
      "cell_type": "code",
      "execution_count": null,
      "id": "4d4672d9",
      "metadata": {
        "id": "4d4672d9"
      },
      "outputs": [],
      "source": [
        "def square(j):\n",
        "    a=j**2\n",
        "    return a"
      ]
    },
    {
      "cell_type": "markdown",
      "id": "26d2a23b",
      "metadata": {
        "id": "26d2a23b"
      },
      "source": [
        "### Use of map function"
      ]
    },
    {
      "cell_type": "code",
      "execution_count": null,
      "id": "de18802c",
      "metadata": {
        "id": "de18802c",
        "outputId": "90d5b356-9338-436b-81ea-5695c24b640a"
      },
      "outputs": [
        {
          "data": {
            "text/plain": [
              "[1, 4, 9, 16, 25]"
            ]
          },
          "execution_count": 5,
          "metadata": {},
          "output_type": "execute_result"
        }
      ],
      "source": [
        "list(map(square,L))"
      ]
    },
    {
      "cell_type": "markdown",
      "source": [
        "*WAP to take list as input and it will return the even number only (use a function named as \"even_num\")*"
      ],
      "metadata": {
        "id": "UGcKT70SmFQK"
      },
      "id": "UGcKT70SmFQK"
    },
    {
      "cell_type": "code",
      "execution_count": null,
      "id": "910efa69",
      "metadata": {
        "id": "910efa69"
      },
      "outputs": [],
      "source": [
        "def even_num(L):\n",
        "    M=[i for i in L if i%2==0]\n",
        "    return M"
      ]
    },
    {
      "cell_type": "code",
      "execution_count": null,
      "id": "55a33f06",
      "metadata": {
        "id": "55a33f06",
        "outputId": "f9930d83-c45d-467b-d16f-de6779a58225"
      },
      "outputs": [
        {
          "data": {
            "text/plain": [
              "[2, 4, 6]"
            ]
          },
          "execution_count": 27,
          "metadata": {},
          "output_type": "execute_result"
        }
      ],
      "source": [
        "even_num([1,2,3,4,5,6])"
      ]
    },
    {
      "cell_type": "code",
      "execution_count": null,
      "id": "3c6d96d2",
      "metadata": {
        "id": "3c6d96d2"
      },
      "outputs": [],
      "source": [
        "def even_num(L):\n",
        "    if L%2==0:\n",
        "        return L"
      ]
    },
    {
      "cell_type": "code",
      "execution_count": null,
      "id": "60c118f2",
      "metadata": {
        "id": "60c118f2"
      },
      "outputs": [],
      "source": [
        "even_num(3)"
      ]
    },
    {
      "cell_type": "code",
      "execution_count": null,
      "id": "ae0314a5",
      "metadata": {
        "id": "ae0314a5",
        "outputId": "f5ec005f-28c4-49be-e4fd-2ddb8a1cb4a9"
      },
      "outputs": [
        {
          "data": {
            "text/plain": [
              "[None, 2, None, 4, None]"
            ]
          },
          "execution_count": 37,
          "metadata": {},
          "output_type": "execute_result"
        }
      ],
      "source": [
        "list(map(even_num,[1,2,3,4,5]))"
      ]
    },
    {
      "cell_type": "code",
      "execution_count": null,
      "id": "9bb8d870",
      "metadata": {
        "id": "9bb8d870",
        "outputId": "a05074da-d0e0-4357-cf45-87db063a64c0"
      },
      "outputs": [
        {
          "data": {
            "text/plain": [
              "[2, 4]"
            ]
          },
          "execution_count": 39,
          "metadata": {},
          "output_type": "execute_result"
        }
      ],
      "source": [
        "#objective is to get only 2 and 4 as output\n",
        "list(filter(even_num,[1,2,3,4,5]))"
      ]
    },
    {
      "cell_type": "code",
      "execution_count": null,
      "id": "5df211a8",
      "metadata": {
        "id": "5df211a8"
      },
      "outputs": [],
      "source": [
        "square_num=lambda a: a**2"
      ]
    },
    {
      "cell_type": "code",
      "execution_count": null,
      "id": "c18224f0",
      "metadata": {
        "id": "c18224f0",
        "outputId": "f100b0f7-fb72-4d13-8b68-b215b8777b09"
      },
      "outputs": [
        {
          "data": {
            "text/plain": [
              "4"
            ]
          },
          "execution_count": 42,
          "metadata": {},
          "output_type": "execute_result"
        }
      ],
      "source": [
        "square_num(2)"
      ]
    },
    {
      "cell_type": "markdown",
      "source": [
        "*WAP to square each object in a list*"
      ],
      "metadata": {
        "id": "8-TZ4GeDl8Pq"
      },
      "id": "8-TZ4GeDl8Pq"
    },
    {
      "cell_type": "code",
      "execution_count": null,
      "id": "bf80c7ab",
      "metadata": {
        "id": "bf80c7ab",
        "outputId": "70410129-18ec-4608-bca2-28a44b04c414"
      },
      "outputs": [
        {
          "data": {
            "text/plain": [
              "[1, 4, 9, 16, 25]"
            ]
          },
          "execution_count": 43,
          "metadata": {},
          "output_type": "execute_result"
        }
      ],
      "source": [
        "\n",
        "L2=[1,2,3,4,5]\n",
        "list(map(lambda a: a**2,L2))"
      ]
    },
    {
      "cell_type": "markdown",
      "source": [
        "*WAP to print the even number only for the input list*"
      ],
      "metadata": {
        "id": "LcKdkmoWl3wJ"
      },
      "id": "LcKdkmoWl3wJ"
    },
    {
      "cell_type": "code",
      "execution_count": null,
      "id": "e375e636",
      "metadata": {
        "id": "e375e636",
        "outputId": "7547347e-12d2-4fcc-ff1a-cc011a9435ce"
      },
      "outputs": [
        {
          "data": {
            "text/plain": [
              "[2, 4]"
            ]
          },
          "execution_count": 44,
          "metadata": {},
          "output_type": "execute_result"
        }
      ],
      "source": [
        "\n",
        "list(filter(lambda a:a%2==0,L2))"
      ]
    },
    {
      "cell_type": "markdown",
      "source": [
        "*WAP to iterate through a dictionary and to print its key value using afunction*\n",
        "\n"
      ],
      "metadata": {
        "id": "wSTHZQMxm2zl"
      },
      "id": "wSTHZQMxm2zl"
    },
    {
      "cell_type": "code",
      "source": [
        "def print_Dictionary(E):\n",
        "  for a in E.items():\n",
        "    print(a)"
      ],
      "metadata": {
        "id": "n7I5ubd1nIb4"
      },
      "id": "n7I5ubd1nIb4",
      "execution_count": 2,
      "outputs": []
    },
    {
      "cell_type": "code",
      "execution_count": 3,
      "id": "324c283f",
      "metadata": {
        "colab": {
          "base_uri": "https://localhost:8080/"
        },
        "id": "324c283f",
        "outputId": "baf67d2b-55ae-4da3-e3b2-bba5c43980a0"
      },
      "outputs": [
        {
          "output_type": "stream",
          "name": "stdout",
          "text": [
            "('k1', 'Silicon')\n",
            "('k2', 6)\n",
            "('k3', 1000)\n"
          ]
        }
      ],
      "source": [
        "D={'k1':'Silicon','k2':6,'k3':1000}\n",
        "print_Dictionary(D)"
      ]
    },
    {
      "cell_type": "code",
      "source": [
        "def print_Dictionary(E):\n",
        "  for key,value in E.items():\n",
        "    print(f\"{key}:{value}\")"
      ],
      "metadata": {
        "id": "gjUEkufhn4ya"
      },
      "id": "gjUEkufhn4ya",
      "execution_count": 7,
      "outputs": []
    },
    {
      "cell_type": "code",
      "source": [
        "D1={'k1':'Silicon','k2':6,'k3':800}\n",
        "print_Dictionary(D1)"
      ],
      "metadata": {
        "colab": {
          "base_uri": "https://localhost:8080/"
        },
        "id": "eVEjbqw2oA79",
        "outputId": "739bd757-c034-4b90-b78f-ad2c28112d2d"
      },
      "id": "eVEjbqw2oA79",
      "execution_count": 8,
      "outputs": [
        {
          "output_type": "stream",
          "name": "stdout",
          "text": [
            "k1:Silicon\n",
            "k2:6\n",
            "k3:800\n"
          ]
        }
      ]
    },
    {
      "cell_type": "code",
      "source": [
        "D.update({'k4':'Patia'})\n"
      ],
      "metadata": {
        "id": "PihQFJckoX8J"
      },
      "id": "PihQFJckoX8J",
      "execution_count": 9,
      "outputs": []
    },
    {
      "cell_type": "code",
      "source": [
        "D"
      ],
      "metadata": {
        "colab": {
          "base_uri": "https://localhost:8080/"
        },
        "id": "TtQnl9gLotpn",
        "outputId": "2ec56caf-f5bd-4c1d-f443-1887dd620916"
      },
      "id": "TtQnl9gLotpn",
      "execution_count": 10,
      "outputs": [
        {
          "output_type": "execute_result",
          "data": {
            "text/plain": [
              "{'k1': 'Silicon', 'k2': 6, 'k3': 1000, 'k4': 'Patia'}"
            ]
          },
          "metadata": {},
          "execution_count": 10
        }
      ]
    },
    {
      "cell_type": "code",
      "source": [
        "print_Dictionary(D)"
      ],
      "metadata": {
        "colab": {
          "base_uri": "https://localhost:8080/"
        },
        "id": "pmBKFhxmp6m7",
        "outputId": "78170816-e3c2-4df7-9e6a-e6f4bf2b09ff"
      },
      "id": "pmBKFhxmp6m7",
      "execution_count": 11,
      "outputs": [
        {
          "output_type": "stream",
          "name": "stdout",
          "text": [
            "k1:Silicon\n",
            "k2:6\n",
            "k3:1000\n",
            "k4:Patia\n"
          ]
        }
      ]
    },
    {
      "cell_type": "markdown",
      "source": [
        "**Object Oriented Programming (OOP)**\n",
        "\n",
        "- *It allows he programmer to create their own objects that have methods and functions*\n",
        "\n",
        "- [1] *Keyword:*\n",
        "\n",
        "    *class NameOfClass():*\n",
        "\n",
        "  *(keyword) (user defined, first letter should be capital)*\n",
        "\n",
        "  [2] *defining a function*\n",
        "   \n",
        "   *________________ def___init__(self,attributes):*\n",
        "\n",
        "   *(indentation)(special func.)(parameters,arguements)*\n",
        "\n",
        "   *example:*\n",
        "   \n",
        "   class Silicon():\n",
        "\n",
        "   def__init__(self,name,sic):\n",
        "\n",
        "       *self.name=name*\n",
        "\n",
        "       *self.sic=sic*\n",
        "\n",
        "   [3] *Create instance of a class*\n",
        "\n",
        "    * It can be created by calling the class name\n",
        "\n",
        "     *example:*\n",
        "     \n",
        "     *c= Silicon(name='Alisha',sic='22BCSC19')*\n",
        "\n",
        "     - it create instance of class name as 'silicon'\n",
        "     - it does initialisation by calling a fuction  --init--\n",
        "\n",
        "     now,\n",
        "     \n",
        "      self.a= 'Alisha'\n",
        "        \n",
        "      self.b= '22BCSC19'\n",
        "\n"
      ],
      "metadata": {
        "id": "eFgPP9oyqQ7P"
      },
      "id": "eFgPP9oyqQ7P"
    },
    {
      "cell_type": "code",
      "source": [
        "class Silicon():\n",
        "  def __init__(self,name,sic):\n",
        "   self.name=name\n",
        "   self.sic=sic"
      ],
      "metadata": {
        "id": "lclhbIItuyup"
      },
      "id": "lclhbIItuyup",
      "execution_count": 16,
      "outputs": []
    },
    {
      "cell_type": "code",
      "source": [
        "c=Silicon(name='Alisha',sic='22BCSC19')"
      ],
      "metadata": {
        "id": "-6gxGeJDqB7-"
      },
      "id": "-6gxGeJDqB7-",
      "execution_count": 17,
      "outputs": []
    },
    {
      "cell_type": "code",
      "source": [
        "type(c)"
      ],
      "metadata": {
        "colab": {
          "base_uri": "https://localhost:8080/"
        },
        "id": "beYqfAb80Yv3",
        "outputId": "eb9b58a1-0375-40c6-d328-48b712da4d00"
      },
      "id": "beYqfAb80Yv3",
      "execution_count": 18,
      "outputs": [
        {
          "output_type": "execute_result",
          "data": {
            "text/plain": [
              "__main__.Silicon"
            ]
          },
          "metadata": {},
          "execution_count": 18
        }
      ]
    },
    {
      "cell_type": "code",
      "source": [
        "c.name"
      ],
      "metadata": {
        "colab": {
          "base_uri": "https://localhost:8080/",
          "height": 35
        },
        "id": "8PJXrOYb0b1A",
        "outputId": "585849a2-502d-4915-83b5-550016a020f7"
      },
      "id": "8PJXrOYb0b1A",
      "execution_count": 19,
      "outputs": [
        {
          "output_type": "execute_result",
          "data": {
            "text/plain": [
              "'Alisha'"
            ],
            "application/vnd.google.colaboratory.intrinsic+json": {
              "type": "string"
            }
          },
          "metadata": {},
          "execution_count": 19
        }
      ]
    },
    {
      "cell_type": "code",
      "source": [
        "c.sic"
      ],
      "metadata": {
        "colab": {
          "base_uri": "https://localhost:8080/",
          "height": 35
        },
        "id": "YvcXDVph0dfl",
        "outputId": "56eb5833-0762-45ab-f98f-842251120dcf"
      },
      "id": "YvcXDVph0dfl",
      "execution_count": 20,
      "outputs": [
        {
          "output_type": "execute_result",
          "data": {
            "text/plain": [
              "'22BCSC19'"
            ],
            "application/vnd.google.colaboratory.intrinsic+json": {
              "type": "string"
            }
          },
          "metadata": {},
          "execution_count": 20
        }
      ]
    },
    {
      "cell_type": "markdown",
      "source": [
        "*Add fuction called 'display' to class 'Silicon'*"
      ],
      "metadata": {
        "id": "lzwuGzac043Z"
      },
      "id": "lzwuGzac043Z"
    },
    {
      "cell_type": "code",
      "source": [
        "class Silicon():\n",
        "  def __init__(self,name,sic):\n",
        "   self.name=name\n",
        "   self.sic=sic\n",
        "  def display(self):\n",
        "    print(f\"I am a siliconite named as {self.name} with sic: {self.sic}\")\n"
      ],
      "metadata": {
        "id": "92y2nus71VLa"
      },
      "id": "92y2nus71VLa",
      "execution_count": 21,
      "outputs": []
    },
    {
      "cell_type": "code",
      "source": [
        "c=Silicon(name='Alisha',sic=2022)"
      ],
      "metadata": {
        "id": "u8u72XP91qqS"
      },
      "id": "u8u72XP91qqS",
      "execution_count": 22,
      "outputs": []
    },
    {
      "cell_type": "code",
      "source": [
        "c.name"
      ],
      "metadata": {
        "colab": {
          "base_uri": "https://localhost:8080/",
          "height": 35
        },
        "id": "isxCD07e2Tia",
        "outputId": "b3c91802-4f11-4551-9fb1-8571a835c002"
      },
      "id": "isxCD07e2Tia",
      "execution_count": 26,
      "outputs": [
        {
          "output_type": "execute_result",
          "data": {
            "text/plain": [
              "'Alisha'"
            ],
            "application/vnd.google.colaboratory.intrinsic+json": {
              "type": "string"
            }
          },
          "metadata": {},
          "execution_count": 26
        }
      ]
    },
    {
      "cell_type": "code",
      "source": [
        "c.sic"
      ],
      "metadata": {
        "colab": {
          "base_uri": "https://localhost:8080/"
        },
        "id": "vZFvDXi92VtV",
        "outputId": "a3e44be3-a5f0-465b-b8c4-0aa73eadaaec"
      },
      "id": "vZFvDXi92VtV",
      "execution_count": 27,
      "outputs": [
        {
          "output_type": "execute_result",
          "data": {
            "text/plain": [
              "2022"
            ]
          },
          "metadata": {},
          "execution_count": 27
        }
      ]
    }
  ],
  "metadata": {
    "kernelspec": {
      "display_name": "Python 3 (ipykernel)",
      "language": "python",
      "name": "python3"
    },
    "language_info": {
      "codemirror_mode": {
        "name": "ipython",
        "version": 3
      },
      "file_extension": ".py",
      "mimetype": "text/x-python",
      "name": "python",
      "nbconvert_exporter": "python",
      "pygments_lexer": "ipython3",
      "version": "3.11.4"
    },
    "colab": {
      "provenance": []
    }
  },
  "nbformat": 4,
  "nbformat_minor": 5
}