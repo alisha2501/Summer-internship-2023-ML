{
  "nbformat": 4,
  "nbformat_minor": 0,
  "metadata": {
    "colab": {
      "provenance": []
    },
    "kernelspec": {
      "name": "python3",
      "display_name": "Python 3"
    },
    "language_info": {
      "name": "python"
    }
  },
  "cells": [
    {
      "cell_type": "markdown",
      "source": [
        "**String Properties**\n",
        "\n",
        "*6. Formatting of string*"
      ],
      "metadata": {
        "id": "reLJ4bryI2ns"
      }
    },
    {
      "cell_type": "markdown",
      "source": [
        "**Approach A:** *Using .format method*"
      ],
      "metadata": {
        "id": "hgF6cxNBKg04"
      }
    },
    {
      "cell_type": "code",
      "source": [
        "print(\"My name is {},SIT,{},{}\".format('Alisha',2022,'CSE'))"
      ],
      "metadata": {
        "colab": {
          "base_uri": "https://localhost:8080/"
        },
        "id": "l8blo8bJKp_e",
        "outputId": "ee9d6002-3dfd-4471-952e-88cee5f907a1"
      },
      "execution_count": null,
      "outputs": [
        {
          "output_type": "stream",
          "name": "stdout",
          "text": [
            "My name is Alisha,SIT,2022,CSE\n"
          ]
        }
      ]
    },
    {
      "cell_type": "code",
      "source": [
        "#using indexing\n",
        "print(\"My name is {1},SIT,{0},{2}\".format(2022,'Alisha','CSE'))"
      ],
      "metadata": {
        "colab": {
          "base_uri": "https://localhost:8080/"
        },
        "id": "0lHiaCPFLFOf",
        "outputId": "c44f8a56-3cbd-40a8-a350-35d60faf1b7d"
      },
      "execution_count": null,
      "outputs": [
        {
          "output_type": "stream",
          "name": "stdout",
          "text": [
            "My name is Alisha,SIT,2022,CSE\n"
          ]
        }
      ]
    },
    {
      "cell_type": "code",
      "source": [
        "#with other name\n",
        "print(\"My name is {name},SIT,{year},{branch}\".format(year=2022,name='Alisha',branch='CSE'))"
      ],
      "metadata": {
        "colab": {
          "base_uri": "https://localhost:8080/"
        },
        "id": "drb6ilofLuSb",
        "outputId": "3ee0ba98-6096-4180-e097-6d66ea88f79c"
      },
      "execution_count": null,
      "outputs": [
        {
          "output_type": "stream",
          "name": "stdout",
          "text": [
            "My name is Alisha,SIT,2022,CSE\n"
          ]
        }
      ]
    },
    {
      "cell_type": "markdown",
      "source": [
        "**Approach B:** *Using f method*"
      ],
      "metadata": {
        "id": "VulN0Br-MSR0"
      }
    },
    {
      "cell_type": "code",
      "source": [
        "name='Alisha'\n",
        "year=2022\n",
        "branch='CSE'\n",
        "print(f\"my name is {name},SIT,{year},{branch}\")"
      ],
      "metadata": {
        "colab": {
          "base_uri": "https://localhost:8080/"
        },
        "id": "taZWB37-MgnJ",
        "outputId": "0893a335-db24-4a47-db87-b9f9e6642c39"
      },
      "execution_count": null,
      "outputs": [
        {
          "output_type": "stream",
          "name": "stdout",
          "text": [
            "my name is Alisha,SIT,2022,CSE\n"
          ]
        }
      ]
    },
    {
      "cell_type": "markdown",
      "source": [
        "**Task : mystring={'silicon'}, Objective to split the string whereever \"i\" occurs**"
      ],
      "metadata": {
        "id": "8dPgl83jPaKe"
      }
    },
    {
      "cell_type": "code",
      "source": [
        "mystring='silicon'\n",
        "a=mystring.split(\"i\")\n",
        "print(a)"
      ],
      "metadata": {
        "colab": {
          "base_uri": "https://localhost:8080/"
        },
        "id": "9QGM1rm7PB0E",
        "outputId": "8f1ad2e1-097d-4087-89ea-5770295ddc25"
      },
      "execution_count": null,
      "outputs": [
        {
          "output_type": "stream",
          "name": "stdout",
          "text": [
            "['s', 'l', 'con']\n"
          ]
        }
      ]
    },
    {
      "cell_type": "markdown",
      "source": [
        "**[2] List**"
      ],
      "metadata": {
        "id": "TFPFWyYeRTfK"
      }
    },
    {
      "cell_type": "markdown",
      "source": [
        "*it is a collection of data seperated by ',' in square braces*"
      ],
      "metadata": {
        "id": "CJZe2V04RYww"
      }
    },
    {
      "cell_type": "code",
      "source": [
        "mylist=['silicon',2022,9.25,['CSE',70]]\n",
        "print(mylist)\n",
        "type(mylist)"
      ],
      "metadata": {
        "colab": {
          "base_uri": "https://localhost:8080/"
        },
        "id": "mg7GWTCyR7aO",
        "outputId": "cb2a023d-4fbe-44b4-ec54-7f2bd73d9053"
      },
      "execution_count": null,
      "outputs": [
        {
          "output_type": "stream",
          "name": "stdout",
          "text": [
            "['silicon', 2022, 9.25, ['CSE', 70]]\n"
          ]
        },
        {
          "output_type": "execute_result",
          "data": {
            "text/plain": [
              "list"
            ]
          },
          "metadata": {},
          "execution_count": 14
        }
      ]
    },
    {
      "cell_type": "markdown",
      "source": [
        "**Properties of list**\n",
        "\n",
        "*1. List are ordered sequence,which means it supports indexing and slicing*"
      ],
      "metadata": {
        "id": "vHmNW9U8SXn0"
      }
    },
    {
      "cell_type": "markdown",
      "source": [
        "mylist[3]\n"
      ],
      "metadata": {
        "id": "8MCP6kugTFwi"
      }
    },
    {
      "cell_type": "code",
      "source": [
        "a=mylist[3]\n",
        "a[0]"
      ],
      "metadata": {
        "colab": {
          "base_uri": "https://localhost:8080/",
          "height": 35
        },
        "id": "Kt9ZCoaxTPd6",
        "outputId": "6e725cf4-cb6b-4413-a463-9b67529c15f5"
      },
      "execution_count": null,
      "outputs": [
        {
          "output_type": "execute_result",
          "data": {
            "text/plain": [
              "'CSE'"
            ],
            "application/vnd.google.colaboratory.intrinsic+json": {
              "type": "string"
            }
          },
          "metadata": {},
          "execution_count": 17
        }
      ]
    },
    {
      "cell_type": "code",
      "source": [
        "mylist[3][1]"
      ],
      "metadata": {
        "colab": {
          "base_uri": "https://localhost:8080/"
        },
        "id": "hwTCtWxYT404",
        "outputId": "799f5e02-3069-4b3c-d12e-e940b56b6d75"
      },
      "execution_count": null,
      "outputs": [
        {
          "output_type": "execute_result",
          "data": {
            "text/plain": [
              "70"
            ]
          },
          "metadata": {},
          "execution_count": 21
        }
      ]
    },
    {
      "cell_type": "markdown",
      "source": [
        "*Slicing*"
      ],
      "metadata": {
        "id": "jLDoBs9lUxM0"
      }
    },
    {
      "cell_type": "code",
      "source": [
        "mylist[0:2]"
      ],
      "metadata": {
        "id": "9ee1z8PKU2R1",
        "colab": {
          "base_uri": "https://localhost:8080/"
        },
        "outputId": "127107ed-c663-4893-bfaf-ce36a81403a7"
      },
      "execution_count": 22,
      "outputs": [
        {
          "output_type": "execute_result",
          "data": {
            "text/plain": [
              "['silicon', 2022]"
            ]
          },
          "metadata": {},
          "execution_count": 22
        }
      ]
    },
    {
      "cell_type": "code",
      "source": [
        "mylist[-1]"
      ],
      "metadata": {
        "colab": {
          "base_uri": "https://localhost:8080/"
        },
        "id": "x7ChQPyIVJ5l",
        "outputId": "4818b5d6-261b-4cdb-9ab6-9f95e8436885"
      },
      "execution_count": 23,
      "outputs": [
        {
          "output_type": "execute_result",
          "data": {
            "text/plain": [
              "['CSE', 70]"
            ]
          },
          "metadata": {},
          "execution_count": 23
        }
      ]
    },
    {
      "cell_type": "code",
      "source": [
        "mylist[4::-1]"
      ],
      "metadata": {
        "colab": {
          "base_uri": "https://localhost:8080/"
        },
        "id": "44XdyLE2VPgP",
        "outputId": "d9717d2b-94da-4ff8-d1b5-53641d4c5db9"
      },
      "execution_count": 24,
      "outputs": [
        {
          "output_type": "execute_result",
          "data": {
            "text/plain": [
              "[['CSE', 70], 9.25, 2022, 'silicon']"
            ]
          },
          "metadata": {},
          "execution_count": 24
        }
      ]
    },
    {
      "cell_type": "markdown",
      "source": [
        "*LIST are mutable: ITEM can be reassigned*"
      ],
      "metadata": {
        "id": "OGzyLgB_WCd4"
      }
    },
    {
      "cell_type": "code",
      "source": [
        "mylist"
      ],
      "metadata": {
        "colab": {
          "base_uri": "https://localhost:8080/"
        },
        "id": "XwPHAJbEWJ8O",
        "outputId": "6a2def18-f828-4251-f3ed-4619b98a21ff"
      },
      "execution_count": 25,
      "outputs": [
        {
          "output_type": "execute_result",
          "data": {
            "text/plain": [
              "['silicon', 2022, 9.25, ['CSE', 70]]"
            ]
          },
          "metadata": {},
          "execution_count": 25
        }
      ]
    },
    {
      "cell_type": "code",
      "source": [
        "mylist[-1]=['CE',100]\n",
        "mylist"
      ],
      "metadata": {
        "colab": {
          "base_uri": "https://localhost:8080/"
        },
        "id": "auTgmvnQWNGS",
        "outputId": "65f25101-373e-4edc-d936-2613ed20744e"
      },
      "execution_count": 27,
      "outputs": [
        {
          "output_type": "execute_result",
          "data": {
            "text/plain": [
              "['silicon', 2022, 9.25, ['CE', 100]]"
            ]
          },
          "metadata": {},
          "execution_count": 27
        }
      ]
    },
    {
      "cell_type": "code",
      "source": [
        "print(mylist)"
      ],
      "metadata": {
        "colab": {
          "base_uri": "https://localhost:8080/"
        },
        "id": "7CPMssnqWkZ_",
        "outputId": "31f93a3f-6d7b-4649-8ee6-6dbb89a2b294"
      },
      "execution_count": 28,
      "outputs": [
        {
          "output_type": "stream",
          "name": "stdout",
          "text": [
            "['silicon', 2022, 9.25, ['CE', 100]]\n"
          ]
        }
      ]
    },
    {
      "cell_type": "markdown",
      "source": [
        "*Methods in LIST:*"
      ],
      "metadata": {
        "id": "2-qmLTEeW1WU"
      }
    },
    {
      "cell_type": "code",
      "source": [
        "mylist.append('Bhubaneswar')  #appened means to add something\n",
        "mylist\n"
      ],
      "metadata": {
        "colab": {
          "base_uri": "https://localhost:8080/"
        },
        "id": "LWK2I_HtW9eK",
        "outputId": "5d19ddaa-15e6-4b20-8892-f1896c3db0ae"
      },
      "execution_count": 31,
      "outputs": [
        {
          "output_type": "execute_result",
          "data": {
            "text/plain": [
              "['silicon', 2022, 9.25, ['CE', 100], 'Bhubaneswar']"
            ]
          },
          "metadata": {},
          "execution_count": 31
        }
      ]
    },
    {
      "cell_type": "code",
      "source": [
        "mylist.pop()\n",
        "mylist"
      ],
      "metadata": {
        "colab": {
          "base_uri": "https://localhost:8080/"
        },
        "id": "Z57-FJNrXtUH",
        "outputId": "1465d8a7-4daf-4c31-836e-f3ef139d6f70"
      },
      "execution_count": 36,
      "outputs": [
        {
          "output_type": "execute_result",
          "data": {
            "text/plain": [
              "['silicon', 2022, 9.25, ['CE', 100]]"
            ]
          },
          "metadata": {},
          "execution_count": 36
        }
      ]
    },
    {
      "cell_type": "code",
      "source": [
        "mylist.pop(1)\n"
      ],
      "metadata": {
        "colab": {
          "base_uri": "https://localhost:8080/"
        },
        "id": "3qHGnnQRYDZx",
        "outputId": "d05447a6-466d-491d-c6c4-335e886c0144"
      },
      "execution_count": 38,
      "outputs": [
        {
          "output_type": "execute_result",
          "data": {
            "text/plain": [
              "2022"
            ]
          },
          "metadata": {},
          "execution_count": 38
        }
      ]
    },
    {
      "cell_type": "code",
      "source": [
        "mylist.insert(4,'bhubaneswar')\n",
        "mylist"
      ],
      "metadata": {
        "colab": {
          "base_uri": "https://localhost:8080/"
        },
        "id": "OghC3LaZYGLO",
        "outputId": "aebc52ea-3e88-44f2-8b96-27daf490f881"
      },
      "execution_count": 39,
      "outputs": [
        {
          "output_type": "execute_result",
          "data": {
            "text/plain": [
              "['silicon', 9.25, ['CE', 100], 'bhubaneswar']"
            ]
          },
          "metadata": {},
          "execution_count": 39
        }
      ]
    },
    {
      "cell_type": "code",
      "source": [
        "mylist1=[3,4,5,1]\n",
        "mylist2=[2,6]\n",
        "mylist1.extend(mylist2)\n",
        "mylist1"
      ],
      "metadata": {
        "colab": {
          "base_uri": "https://localhost:8080/"
        },
        "id": "UpwqPcMTYzHI",
        "outputId": "cbac557e-c466-4816-c1e2-3b0ffcfa03bb"
      },
      "execution_count": 40,
      "outputs": [
        {
          "output_type": "execute_result",
          "data": {
            "text/plain": [
              "[3, 4, 5, 1, 2, 6]"
            ]
          },
          "metadata": {},
          "execution_count": 40
        }
      ]
    },
    {
      "cell_type": "code",
      "source": [
        "print(mylist1.count(1))"
      ],
      "metadata": {
        "colab": {
          "base_uri": "https://localhost:8080/"
        },
        "id": "pzGdJK4BZOTr",
        "outputId": "4a088482-8e56-4205-e1d3-df660ad5d1f2"
      },
      "execution_count": 47,
      "outputs": [
        {
          "output_type": "stream",
          "name": "stdout",
          "text": [
            "1\n"
          ]
        }
      ]
    },
    {
      "cell_type": "code",
      "source": [
        "print(mylist1.index(5))"
      ],
      "metadata": {
        "colab": {
          "base_uri": "https://localhost:8080/"
        },
        "id": "OeI4qkbjbsHb",
        "outputId": "deea3552-d2eb-4862-d0cf-46a5d8f2ebe0"
      },
      "execution_count": 48,
      "outputs": [
        {
          "output_type": "stream",
          "name": "stdout",
          "text": [
            "2\n"
          ]
        }
      ]
    },
    {
      "cell_type": "code",
      "source": [
        "mylist1.sort()\n",
        "mylist1"
      ],
      "metadata": {
        "colab": {
          "base_uri": "https://localhost:8080/"
        },
        "id": "qR4Hrkp0b0GN",
        "outputId": "00118d46-0c00-459e-e239-ca0383cfc84f"
      },
      "execution_count": 49,
      "outputs": [
        {
          "output_type": "execute_result",
          "data": {
            "text/plain": [
              "[1, 2, 3, 4, 5, 6]"
            ]
          },
          "metadata": {},
          "execution_count": 49
        }
      ]
    },
    {
      "cell_type": "code",
      "source": [
        "mylist1.reverse()\n",
        "mylist1"
      ],
      "metadata": {
        "colab": {
          "base_uri": "https://localhost:8080/"
        },
        "id": "g7uIVbHrcD-g",
        "outputId": "2f14ad42-04dd-4a3f-9279-b1b3764e7cec"
      },
      "execution_count": 50,
      "outputs": [
        {
          "output_type": "execute_result",
          "data": {
            "text/plain": [
              "[6, 5, 4, 3, 2, 1]"
            ]
          },
          "metadata": {},
          "execution_count": 50
        }
      ]
    }
  ]
}