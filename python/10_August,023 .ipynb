{
 "cells": [
  {
   "cell_type": "code",
   "execution_count": null,
   "metadata": {
    "id": "MHHnLtpsCY-c"
   },
   "outputs": [],
   "source": [
    "\n",
    "\n",
    "##PYTHON supports dynamic typecasting: data type of a variable is determined at the runtime based on the value it holds\n"
   ]
  },
  {
   "cell_type": "code",
   "execution_count": 5,
   "metadata": {
    "colab": {
     "base_uri": "https://localhost:8080/",
     "height": 0
    },
    "id": "nnlfQD4ZDNL5",
    "outputId": "0b2af8aa-de19-4cab-a7ef-b0d0af783639"
   },
   "outputs": [
    {
     "name": "stdout",
     "output_type": "stream",
     "text": [
      "silicon\n"
     ]
    }
   ],
   "source": [
    "a=22\n",
    "a=22.8\n",
    "a='silicon'\n",
    "print(a)"
   ]
  },
  {
   "cell_type": "code",
   "execution_count": 4,
   "metadata": {
    "colab": {
     "base_uri": "https://localhost:8080/",
     "height": 0
    },
    "id": "2LqFIvriDXko",
    "outputId": "cc95e812-238c-4012-b81b-27e1264a977b"
   },
   "outputs": [
    {
     "name": "stdout",
     "output_type": "stream",
     "text": [
      "32.5\n"
     ]
    }
   ],
   "source": [
    "a=10\n",
    "b=22.5\n",
    "sum=a+b\n",
    "print(sum)"
   ]
  },
  {
   "cell_type": "markdown",
   "metadata": {
    "id": "I2m255kgEMS-"
   },
   "source": [
    "**DATA TYPES**\n",
    "\n",
    "[1]*String: It holds character within a quotation.*"
   ]
  },
  {
   "cell_type": "code",
   "execution_count": 6,
   "metadata": {
    "colab": {
     "base_uri": "https://localhost:8080/",
     "height": 0
    },
    "id": "sugjlfmPEv_A",
    "outputId": "1f32e715-d3c6-4690-c6fa-c801fbb13fb8"
   },
   "outputs": [
    {
     "name": "stdout",
     "output_type": "stream",
     "text": [
      "silicon\n"
     ]
    }
   ],
   "source": [
    "print('silicon')"
   ]
  },
  {
   "cell_type": "code",
   "execution_count": 7,
   "metadata": {
    "colab": {
     "base_uri": "https://localhost:8080/",
     "height": 140
    },
    "id": "R99aE__uE2Gl",
    "outputId": "d0f6b6da-94f4-44b2-efb2-2049f90c278f"
   },
   "outputs": [
    {
     "ename": "SyntaxError",
     "evalue": "ignored",
     "output_type": "error",
     "traceback": [
      "\u001b[0;36m  File \u001b[0;32m\"<ipython-input-7-93ec9e741904>\"\u001b[0;36m, line \u001b[0;32m1\u001b[0m\n\u001b[0;31m    print('your's)\u001b[0m\n\u001b[0m          ^\u001b[0m\n\u001b[0;31mSyntaxError\u001b[0m\u001b[0;31m:\u001b[0m invalid syntax. Perhaps you forgot a comma?\n"
     ]
    }
   ],
   "source": [
    "print('your's)"
   ]
  },
  {
   "cell_type": "code",
   "execution_count": 8,
   "metadata": {
    "colab": {
     "base_uri": "https://localhost:8080/",
     "height": 0
    },
    "id": "Ozd7jG3nE9-k",
    "outputId": "1b5dfe42-acc6-4b37-ad13-40ffbbebd5e9"
   },
   "outputs": [
    {
     "name": "stdout",
     "output_type": "stream",
     "text": [
      "your's\n"
     ]
    }
   ],
   "source": [
    "print(\"your's\")"
   ]
  },
  {
   "cell_type": "markdown",
   "metadata": {
    "id": "e-7TF1tWFW2w"
   },
   "source": [
    "\n",
    "**Propeties of Strings**\n",
    "1. *Strings are immutable: once the string is created,its cannot be changed.*\n",
    "2. *Strings are ordered sequence which means it support indexing and slicing.*"
   ]
  },
  {
   "cell_type": "code",
   "execution_count": 11,
   "metadata": {
    "colab": {
     "base_uri": "https://localhost:8080/",
     "height": 35
    },
    "id": "5H-bGJV-GHAm",
    "outputId": "04d1d35f-66c9-4b89-cca9-84b275841d20"
   },
   "outputs": [
    {
     "data": {
      "application/vnd.google.colaboratory.intrinsic+json": {
       "type": "string"
      },
      "text/plain": [
       "'n'"
      ]
     },
     "execution_count": 11,
     "metadata": {},
     "output_type": "execute_result"
    }
   ],
   "source": [
    "#indexing: extracting a single character from a string\n",
    "mystring='silicon' #starts with 0 just like arrays\n",
    "mystring[0]\n",
    "#it supports reverse indexing\n",
    "mystring[6]"
   ]
  },
  {
   "cell_type": "code",
   "execution_count": 12,
   "metadata": {
    "colab": {
     "base_uri": "https://localhost:8080/",
     "height": 35
    },
    "id": "zAe34nTjGzGP",
    "outputId": "e509c06a-ddf8-44d6-f1b1-641db091337b"
   },
   "outputs": [
    {
     "data": {
      "application/vnd.google.colaboratory.intrinsic+json": {
       "type": "string"
      },
      "text/plain": [
       "'n'"
      ]
     },
     "execution_count": 12,
     "metadata": {},
     "output_type": "execute_result"
    }
   ],
   "source": [
    "mystring[-1]"
   ]
  },
  {
   "cell_type": "code",
   "execution_count": 13,
   "metadata": {
    "colab": {
     "base_uri": "https://localhost:8080/",
     "height": 35
    },
    "id": "CnqCxsjxHVbl",
    "outputId": "dea73b2d-e5c7-46ef-f9d6-5a7bc474cac1"
   },
   "outputs": [
    {
     "data": {
      "application/vnd.google.colaboratory.intrinsic+json": {
       "type": "string"
      },
      "text/plain": [
       "'con'"
      ]
     },
     "execution_count": 13,
     "metadata": {},
     "output_type": "execute_result"
    }
   ],
   "source": [
    "#Slicing: Extracting a substring from a given string\n",
    "#Syntax: string_name[start_index:end_index-1:increment]\n",
    "#Q. extract 'con' from given string 'silicon'\n",
    "mystring[4:7]"
   ]
  },
  {
   "cell_type": "code",
   "execution_count": 14,
   "metadata": {
    "colab": {
     "base_uri": "https://localhost:8080/",
     "height": 35
    },
    "id": "fZhO0pKtIuII",
    "outputId": "20b4bcd6-25ab-4ce6-8350-9334c41e65c4"
   },
   "outputs": [
    {
     "data": {
      "application/vnd.google.colaboratory.intrinsic+json": {
       "type": "string"
      },
      "text/plain": [
       "'slc'"
      ]
     },
     "execution_count": 14,
     "metadata": {},
     "output_type": "execute_result"
    }
   ],
   "source": [
    "mystring[:6:2]"
   ]
  },
  {
   "cell_type": "code",
   "execution_count": 15,
   "metadata": {
    "colab": {
     "base_uri": "https://localhost:8080/",
     "height": 35
    },
    "id": "TkRycUYkJjwd",
    "outputId": "5d344fa6-d2e2-4f1a-d562-2feacf2c157c"
   },
   "outputs": [
    {
     "data": {
      "application/vnd.google.colaboratory.intrinsic+json": {
       "type": "string"
      },
      "text/plain": [
       "'nocilis'"
      ]
     },
     "execution_count": 15,
     "metadata": {},
     "output_type": "execute_result"
    }
   ],
   "source": [
    "mystring[::-1]"
   ]
  },
  {
   "cell_type": "code",
   "execution_count": 16,
   "metadata": {
    "colab": {
     "base_uri": "https://localhost:8080/",
     "height": 210
    },
    "id": "JeaGO9D4K2MC",
    "outputId": "badbe28a-1f05-41c1-c0bf-4e4ec8326abc"
   },
   "outputs": [
    {
     "ename": "TypeError",
     "evalue": "ignored",
     "output_type": "error",
     "traceback": [
      "\u001b[0;31m---------------------------------------------------------------------------\u001b[0m",
      "\u001b[0;31mTypeError\u001b[0m                                 Traceback (most recent call last)",
      "\u001b[0;32m<ipython-input-16-592a0fdf6cf6>\u001b[0m in \u001b[0;36m<cell line: 3>\u001b[0;34m()\u001b[0m\n\u001b[1;32m      1\u001b[0m \u001b[0;31m#Immutable\u001b[0m\u001b[0;34m\u001b[0m\u001b[0;34m\u001b[0m\u001b[0m\n\u001b[1;32m      2\u001b[0m \u001b[0mmystring1\u001b[0m\u001b[0;34m=\u001b[0m\u001b[0;34m'RAM'\u001b[0m\u001b[0;34m\u001b[0m\u001b[0;34m\u001b[0m\u001b[0m\n\u001b[0;32m----> 3\u001b[0;31m \u001b[0mmystring1\u001b[0m\u001b[0;34m[\u001b[0m\u001b[0;36m0\u001b[0m\u001b[0;34m]\u001b[0m\u001b[0;34m=\u001b[0m\u001b[0;34m'S'\u001b[0m  \u001b[0;31m#it doesnt support reassignment\u001b[0m\u001b[0;34m\u001b[0m\u001b[0;34m\u001b[0m\u001b[0m\n\u001b[0m",
      "\u001b[0;31mTypeError\u001b[0m: 'str' object does not support item assignment"
     ]
    }
   ],
   "source": [
    "#Immutable\n",
    "mystring1='RAM'\n",
    "mystring1[0]='S'  #it doesnt support reassignment, hence immutable"
   ]
  },
  {
   "cell_type": "markdown",
   "metadata": {
    "id": "VEIgbCV8LU_4"
   },
   "source": [
    "3. *String concatenation: Strings are concatenated using '+' operater.*"
   ]
  },
  {
   "cell_type": "code",
   "execution_count": 20,
   "metadata": {
    "colab": {
     "base_uri": "https://localhost:8080/",
     "height": 0
    },
    "id": "UkGmUqgeLnNI",
    "outputId": "d922a5fe-52b9-48ce-f344-6b054753f67b"
   },
   "outputs": [
    {
     "name": "stdout",
     "output_type": "stream",
     "text": [
      "SAM\n",
      "Silicon Institute of Technology\n"
     ]
    }
   ],
   "source": [
    "#string concatenation\n",
    "print('S'+mystring1[1:3])\n",
    "print('Silicon'+' Institute'+ ' of Technology')"
   ]
  },
  {
   "cell_type": "markdown",
   "metadata": {
    "id": "M1RyOe-3NKEN"
   },
   "source": [
    "*4. String Method: Different built-in methods which are supported for string data type*"
   ]
  },
  {
   "cell_type": "code",
   "execution_count": 26,
   "metadata": {
    "id": "8NGM4QPBNdw6"
   },
   "outputs": [],
   "source": [
    "clg_name='Silicon Institute of Technology'\n"
   ]
  },
  {
   "cell_type": "code",
   "execution_count": 27,
   "metadata": {
    "colab": {
     "base_uri": "https://localhost:8080/",
     "height": 35
    },
    "id": "7OqEX9epN9BN",
    "outputId": "973d866a-f57b-46aa-c661-07bbc6590eca"
   },
   "outputs": [
    {
     "data": {
      "application/vnd.google.colaboratory.intrinsic+json": {
       "type": "string"
      },
      "text/plain": [
       "'SILICON INSTITUTE OF TECHNOLOGY'"
      ]
     },
     "execution_count": 27,
     "metadata": {},
     "output_type": "execute_result"
    }
   ],
   "source": [
    "clg_name.upper()"
   ]
  },
  {
   "cell_type": "code",
   "execution_count": 28,
   "metadata": {
    "colab": {
     "base_uri": "https://localhost:8080/",
     "height": 35
    },
    "id": "d0rQr0bpOzhG",
    "outputId": "c25f6857-1dd3-48e6-866e-dfb81d92d989"
   },
   "outputs": [
    {
     "data": {
      "application/vnd.google.colaboratory.intrinsic+json": {
       "type": "string"
      },
      "text/plain": [
       "'Silicon institute of technology'"
      ]
     },
     "execution_count": 28,
     "metadata": {},
     "output_type": "execute_result"
    }
   ],
   "source": [
    "clg_name.capitalize() #only first character is changes to capital"
   ]
  },
  {
   "cell_type": "code",
   "execution_count": 29,
   "metadata": {
    "colab": {
     "base_uri": "https://localhost:8080/",
     "height": 35
    },
    "id": "ZEHXpIDZO83A",
    "outputId": "92c4d1cc-df68-4c60-c96b-2337cf2336e8"
   },
   "outputs": [
    {
     "data": {
      "application/vnd.google.colaboratory.intrinsic+json": {
       "type": "string"
      },
      "text/plain": [
       "'silicon institute of technology'"
      ]
     },
     "execution_count": 29,
     "metadata": {},
     "output_type": "execute_result"
    }
   ],
   "source": [
    "clg_name.lower()"
   ]
  },
  {
   "cell_type": "code",
   "execution_count": 31,
   "metadata": {
    "id": "_EAdb13SPHpw"
   },
   "outputs": [],
   "source": [
    "a=clg_name\n",
    "b=a.capitalize()"
   ]
  },
  {
   "cell_type": "code",
   "execution_count": 33,
   "metadata": {
    "colab": {
     "base_uri": "https://localhost:8080/",
     "height": 35
    },
    "id": "lPnyC_YJPUJV",
    "outputId": "f57f6cef-281d-4f3e-89c1-86214cc9f08a"
   },
   "outputs": [
    {
     "data": {
      "application/vnd.google.colaboratory.intrinsic+json": {
       "type": "string"
      },
      "text/plain": [
       "'INSTITUTE'"
      ]
     },
     "execution_count": 33,
     "metadata": {},
     "output_type": "execute_result"
    }
   ],
   "source": [
    "b[8:17].upper()"
   ]
  },
  {
   "cell_type": "code",
   "execution_count": 34,
   "metadata": {
    "colab": {
     "base_uri": "https://localhost:8080/",
     "height": 0
    },
    "id": "_lgolms9Puvm",
    "outputId": "588a7475-0f7a-446f-cd16-76269e9363f3"
   },
   "outputs": [
    {
     "name": "stdout",
     "output_type": "stream",
     "text": [
      "Silicon INSTITUTE of technology\n"
     ]
    }
   ],
   "source": [
    "print(b[:8]+b[8:17].upper()+b[17:])"
   ]
  },
  {
   "cell_type": "code",
   "execution_count": 35,
   "metadata": {
    "colab": {
     "base_uri": "https://localhost:8080/",
     "height": 35
    },
    "id": "E3szVVXxRqwZ",
    "outputId": "9a9fe425-15f4-40bb-dfaa-e973373eb682"
   },
   "outputs": [
    {
     "data": {
      "application/vnd.google.colaboratory.intrinsic+json": {
       "type": "string"
      },
      "text/plain": [
       "'Silicon-institute-of-technology'"
      ]
     },
     "execution_count": 35,
     "metadata": {},
     "output_type": "execute_result"
    }
   ],
   "source": [
    "b.replace(\" \",\"-\")"
   ]
  },
  {
   "cell_type": "markdown",
   "metadata": {
    "id": "jfv92IC4R5T7"
   },
   "source": [
    "5. *Escape sequence: String containing special characte such as \\n for new line and \\t for new tab*"
   ]
  },
  {
   "cell_type": "markdown",
   "metadata": {
    "id": "7EQMU79TTJYD"
   },
   "source": [
    "**ASSIGNMENT 1:**\n",
    "\n",
    "*1.WAP that takes a string as input and count the occurence of a specific substring*\n",
    "\n",
    "*example: Input: 'banana','na'; Output; 2*\n",
    "\n",
    "*2. WAP that takes a string as input and replaces a word with another*\n",
    "\n",
    "  *example: Input: \"programming in python is fun\",\"fun\",\"awesome\";*\n",
    "*Output: \"programming in python is awesome*\n",
    "\n",
    "*3. WAP to take a string as input and reverse it*\n",
    "\n",
    "*4. WAP that takes a string and substring as input and print with all the occurences of the substring removed*\n",
    "\n",
    "*Example: Input:'Programming in python is fun,\"is\"; Output:\"Programming in python fun\"*\n",
    "\n",
    "*5.WAP that takes a string as input and print the strings with the case of each character swapped.*\n",
    "\n",
    "*Example: Input: \"Hello World\" Output: hELLO wORLD*\n",
    "\n",
    "*6. WAP to count number of vowels in a given string*\n",
    "\n",
    "*example: Input: \"Hello World\", Output: 3*\n",
    "\n",
    "*7.WAP that takes a string as input and prints each word in the string in reverse way.*\n",
    "\n",
    "*example: input: \"Hello World\" Output:\"olleH dlroW\"*\n",
    "\n",
    "*8.WAP that takes string as input and counts number of alphanumeric characters in it.*\n",
    "\n",
    "*example: Input: \"Hello123 am here\"*\n"
   ]
  },
  {
   "cell_type": "code",
   "execution_count": null,
   "metadata": {
    "id": "JqUVuCzBZ9w_"
   },
   "outputs": [],
   "source": []
  }
 ],
 "metadata": {
  "colab": {
   "provenance": []
  },
  "kernelspec": {
   "display_name": "Python 3 (ipykernel)",
   "language": "python",
   "name": "python3"
  },
  "language_info": {
   "codemirror_mode": {
    "name": "ipython",
    "version": 3
   },
   "file_extension": ".py",
   "mimetype": "text/x-python",
   "name": "python",
   "nbconvert_exporter": "python",
   "pygments_lexer": "ipython3",
   "version": "3.10.12"
  }
 },
 "nbformat": 4,
 "nbformat_minor": 4
}
