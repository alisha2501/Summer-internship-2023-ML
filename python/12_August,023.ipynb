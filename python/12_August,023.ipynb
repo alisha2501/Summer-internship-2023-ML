{
  "nbformat": 4,
  "nbformat_minor": 0,
  "metadata": {
    "colab": {
      "provenance": []
    },
    "kernelspec": {
      "name": "python3",
      "display_name": "Python 3"
    },
    "language_info": {
      "name": "python"
    }
  },
  "cells": [
    {
      "cell_type": "markdown",
      "source": [
        "**[3] DICTIONARY:** *it is a collection of objects which can be accessed using key-value pair.*\n",
        "\n",
        "**Properties**\n",
        "\n",
        "*1. Are not in ordered sequence, it does not support indexing and slicing(i.e it does'nt support sorting)*\n",
        "\n",
        "*2, Are mutable, it supports item reassignment*\n"
      ],
      "metadata": {
        "id": "53f7ENEhRgS2"
      }
    },
    {
      "cell_type": "code",
      "source": [
        "#[1]\n",
        "D={'apple':200,'mango':300,'orange':300}\n",
        "type(D)"
      ],
      "metadata": {
        "colab": {
          "base_uri": "https://localhost:8080/"
        },
        "id": "pehnmQdsWNvm",
        "outputId": "04303251-f762-4371-d099-10cae9614953"
      },
      "execution_count": 1,
      "outputs": [
        {
          "output_type": "execute_result",
          "data": {
            "text/plain": [
              "dict"
            ]
          },
          "metadata": {},
          "execution_count": 1
        }
      ]
    },
    {
      "cell_type": "code",
      "source": [
        "D['mango']"
      ],
      "metadata": {
        "colab": {
          "base_uri": "https://localhost:8080/"
        },
        "id": "radC8GoMWmAv",
        "outputId": "b5798750-a224-486b-d9be-83591d56d3b0"
      },
      "execution_count": 2,
      "outputs": [
        {
          "output_type": "execute_result",
          "data": {
            "text/plain": [
              "300"
            ]
          },
          "metadata": {},
          "execution_count": 2
        }
      ]
    },
    {
      "cell_type": "markdown",
      "source": [
        "*Methods*"
      ],
      "metadata": {
        "id": "zzKB8lIBX0uS"
      }
    },
    {
      "cell_type": "code",
      "source": [
        "D.items()"
      ],
      "metadata": {
        "colab": {
          "base_uri": "https://localhost:8080/"
        },
        "id": "pNCrXIsSXDN5",
        "outputId": "747124a7-6e59-4bdc-81eb-bb2325b0cfd9"
      },
      "execution_count": 4,
      "outputs": [
        {
          "output_type": "execute_result",
          "data": {
            "text/plain": [
              "dict_items([('apple', 200), ('mango', 300), ('orange', 300)])"
            ]
          },
          "metadata": {},
          "execution_count": 4
        }
      ]
    },
    {
      "cell_type": "code",
      "source": [
        "D.keys()"
      ],
      "metadata": {
        "colab": {
          "base_uri": "https://localhost:8080/"
        },
        "id": "zXZrVGeeXjsL",
        "outputId": "9a61ab49-0ada-4929-ea78-c466776abb7d"
      },
      "execution_count": 5,
      "outputs": [
        {
          "output_type": "execute_result",
          "data": {
            "text/plain": [
              "dict_keys(['apple', 'mango', 'orange'])"
            ]
          },
          "metadata": {},
          "execution_count": 5
        }
      ]
    },
    {
      "cell_type": "code",
      "source": [
        "D.values()"
      ],
      "metadata": {
        "colab": {
          "base_uri": "https://localhost:8080/"
        },
        "id": "wE0FBptuXqTw",
        "outputId": "4e243995-6d09-48c4-ab34-3d2b6286b3e6"
      },
      "execution_count": 6,
      "outputs": [
        {
          "output_type": "execute_result",
          "data": {
            "text/plain": [
              "dict_values([200, 300, 300])"
            ]
          },
          "metadata": {},
          "execution_count": 6
        }
      ]
    },
    {
      "cell_type": "code",
      "source": [
        "D.pop('apple')\n",
        "D"
      ],
      "metadata": {
        "colab": {
          "base_uri": "https://localhost:8080/"
        },
        "id": "QG7GkGuYX_uB",
        "outputId": "2682ece0-e7de-4fb8-f87b-bb5eb89bcf31"
      },
      "execution_count": 9,
      "outputs": [
        {
          "output_type": "execute_result",
          "data": {
            "text/plain": [
              "{'mango': 300, 'orange': 300}"
            ]
          },
          "metadata": {},
          "execution_count": 9
        }
      ]
    },
    {
      "cell_type": "code",
      "source": [
        "D.fromkeys('mango')\n",
        "D"
      ],
      "metadata": {
        "colab": {
          "base_uri": "https://localhost:8080/"
        },
        "id": "6uIRMU0tYMhF",
        "outputId": "939871b8-6a3e-472d-9a1d-fec641245c73"
      },
      "execution_count": 10,
      "outputs": [
        {
          "output_type": "execute_result",
          "data": {
            "text/plain": [
              "{'mango': 300, 'orange': 300}"
            ]
          },
          "metadata": {},
          "execution_count": 10
        }
      ]
    },
    {
      "cell_type": "code",
      "source": [
        "D"
      ],
      "metadata": {
        "colab": {
          "base_uri": "https://localhost:8080/"
        },
        "id": "fZQsP5TJYYxZ",
        "outputId": "7256a484-44c9-41af-cf38-eae18e2c5ee6"
      },
      "execution_count": 11,
      "outputs": [
        {
          "output_type": "execute_result",
          "data": {
            "text/plain": [
              "{'mango': 300, 'orange': 300}"
            ]
          },
          "metadata": {},
          "execution_count": 11
        }
      ]
    },
    {
      "cell_type": "code",
      "source": [
        "D.get('mango')\n",
        "D"
      ],
      "metadata": {
        "colab": {
          "base_uri": "https://localhost:8080/"
        },
        "id": "_qhgxpeEYbXe",
        "outputId": "dd6852d6-258c-4eba-9846-2f3260325685"
      },
      "execution_count": 12,
      "outputs": [
        {
          "output_type": "execute_result",
          "data": {
            "text/plain": [
              "{'mango': 300, 'orange': 300}"
            ]
          },
          "metadata": {},
          "execution_count": 12
        }
      ]
    },
    {
      "cell_type": "code",
      "source": [
        "#2 Mutable\n",
        "D\n"
      ],
      "metadata": {
        "colab": {
          "base_uri": "https://localhost:8080/"
        },
        "id": "y8E6Tra3YqrB",
        "outputId": "f4831bfe-46e9-4eba-cad1-6d037524cc35"
      },
      "execution_count": 13,
      "outputs": [
        {
          "output_type": "execute_result",
          "data": {
            "text/plain": [
              "{'mango': 300, 'orange': 300}"
            ]
          },
          "metadata": {},
          "execution_count": 13
        }
      ]
    },
    {
      "cell_type": "code",
      "source": [
        "D['mango']=400\n",
        "D"
      ],
      "metadata": {
        "colab": {
          "base_uri": "https://localhost:8080/"
        },
        "id": "B2qn1L6aY0OP",
        "outputId": "1e821e20-1bf0-4b8a-df52-fa00d8084e59"
      },
      "execution_count": 15,
      "outputs": [
        {
          "output_type": "execute_result",
          "data": {
            "text/plain": [
              "{'mango': 400, 'orange': 300}"
            ]
          },
          "metadata": {},
          "execution_count": 15
        }
      ]
    },
    {
      "cell_type": "markdown",
      "source": [
        "**[4] Tuple:** **\n",
        "\n",
        "**Properties**\n",
        "*1. Ordered sequence,indexing and slicing are allowed*\n",
        "\n",
        "*2. Not mutable*\n"
      ],
      "metadata": {
        "id": "98IlzoH-ZZFj"
      }
    },
    {
      "cell_type": "code",
      "source": [
        "t=('silicon','Alisha',287,287.56)\n",
        "type(t)"
      ],
      "metadata": {
        "colab": {
          "base_uri": "https://localhost:8080/"
        },
        "id": "gMWTeIwRaqKD",
        "outputId": "cdabe4b8-de5e-45c6-d652-aa1602496d9c"
      },
      "execution_count": 16,
      "outputs": [
        {
          "output_type": "execute_result",
          "data": {
            "text/plain": [
              "tuple"
            ]
          },
          "metadata": {},
          "execution_count": 16
        }
      ]
    },
    {
      "cell_type": "code",
      "source": [
        "t1=('silicon','Alisha',{'k1':23,'k2':34})"
      ],
      "metadata": {
        "id": "xVlzaVFta4G7"
      },
      "execution_count": 18,
      "outputs": []
    },
    {
      "cell_type": "code",
      "source": [
        "#Mutable condition\n",
        "t1[1]='Ram'\n",
        "t1 #not mutable"
      ],
      "metadata": {
        "colab": {
          "base_uri": "https://localhost:8080/",
          "height": 210
        },
        "id": "LvKVpboObKuI",
        "outputId": "05f57fb6-38b0-4d24-f7ed-afe4bbecbdef"
      },
      "execution_count": 19,
      "outputs": [
        {
          "output_type": "error",
          "ename": "TypeError",
          "evalue": "ignored",
          "traceback": [
            "\u001b[0;31m---------------------------------------------------------------------------\u001b[0m",
            "\u001b[0;31mTypeError\u001b[0m                                 Traceback (most recent call last)",
            "\u001b[0;32m<ipython-input-19-f7d59a098046>\u001b[0m in \u001b[0;36m<cell line: 2>\u001b[0;34m()\u001b[0m\n\u001b[1;32m      1\u001b[0m \u001b[0;31m#Mutable condition\u001b[0m\u001b[0;34m\u001b[0m\u001b[0;34m\u001b[0m\u001b[0m\n\u001b[0;32m----> 2\u001b[0;31m \u001b[0mt1\u001b[0m\u001b[0;34m[\u001b[0m\u001b[0;36m1\u001b[0m\u001b[0;34m]\u001b[0m\u001b[0;34m=\u001b[0m\u001b[0;34m'Ram'\u001b[0m\u001b[0;34m\u001b[0m\u001b[0;34m\u001b[0m\u001b[0m\n\u001b[0m\u001b[1;32m      3\u001b[0m \u001b[0mt1\u001b[0m\u001b[0;34m\u001b[0m\u001b[0;34m\u001b[0m\u001b[0m\n",
            "\u001b[0;31mTypeError\u001b[0m: 'tuple' object does not support item assignment"
          ]
        }
      ]
    },
    {
      "cell_type": "markdown",
      "source": [
        "*Methods*"
      ],
      "metadata": {
        "id": "8GL6BHjtbtNf"
      }
    },
    {
      "cell_type": "code",
      "source": [
        "t1.count('Alisha')"
      ],
      "metadata": {
        "colab": {
          "base_uri": "https://localhost:8080/"
        },
        "id": "A2MJX2Inbb4X",
        "outputId": "68d464cd-4420-4c93-bb03-328b16b72585"
      },
      "execution_count": 28,
      "outputs": [
        {
          "output_type": "execute_result",
          "data": {
            "text/plain": [
              "1"
            ]
          },
          "metadata": {},
          "execution_count": 28
        }
      ]
    },
    {
      "cell_type": "code",
      "source": [
        "t1.index('silicon')"
      ],
      "metadata": {
        "colab": {
          "base_uri": "https://localhost:8080/"
        },
        "id": "LlrDfrPzblRc",
        "outputId": "fbf2a984-97c0-4241-9524-c423b70ed10c"
      },
      "execution_count": 23,
      "outputs": [
        {
          "output_type": "execute_result",
          "data": {
            "text/plain": [
              "0"
            ]
          },
          "metadata": {},
          "execution_count": 23
        }
      ]
    },
    {
      "cell_type": "markdown",
      "source": [
        "*Merit of Tuple:*\n",
        "\n",
        "*It supports DATA INTEGRITY: Data will not be affected if its content is changed accidently unlikely to that of LIST data type*"
      ],
      "metadata": {
        "id": "2hq8Sy0pcVeR"
      }
    },
    {
      "cell_type": "markdown",
      "source": [
        "**[5] SET:** *It is collection of unique objects defined using curly braces seperated by comma or it can be defined using set()*\n",
        "\n",
        "\n"
      ],
      "metadata": {
        "id": "Dx-V4rYJc6l7"
      }
    },
    {
      "cell_type": "code",
      "source": [
        "s1={1,2,3,1}\n",
        "type(s1)"
      ],
      "metadata": {
        "colab": {
          "base_uri": "https://localhost:8080/"
        },
        "id": "j33Upyg7dRPP",
        "outputId": "540f39fd-4cb7-4462-8f46-d7d01fffe8b3"
      },
      "execution_count": 29,
      "outputs": [
        {
          "output_type": "execute_result",
          "data": {
            "text/plain": [
              "set"
            ]
          },
          "metadata": {},
          "execution_count": 29
        }
      ]
    },
    {
      "cell_type": "code",
      "source": [
        "s1 #stores unique values, no repeated value will be shown"
      ],
      "metadata": {
        "colab": {
          "base_uri": "https://localhost:8080/"
        },
        "id": "J2FAOw5RdZ5X",
        "outputId": "b29b0029-ae8e-45f7-e341-c294a711673f"
      },
      "execution_count": 30,
      "outputs": [
        {
          "output_type": "execute_result",
          "data": {
            "text/plain": [
              "{1, 2, 3}"
            ]
          },
          "metadata": {},
          "execution_count": 30
        }
      ]
    },
    {
      "cell_type": "code",
      "source": [
        "#Using set() to define set datatype\n",
        "myset=set()\n",
        "type(myset)"
      ],
      "metadata": {
        "colab": {
          "base_uri": "https://localhost:8080/"
        },
        "id": "FIBAi6dfdu37",
        "outputId": "6541eafe-6cc2-413a-8c27-9ea6f644e519"
      },
      "execution_count": 32,
      "outputs": [
        {
          "output_type": "execute_result",
          "data": {
            "text/plain": [
              "set"
            ]
          },
          "metadata": {},
          "execution_count": 32
        }
      ]
    },
    {
      "cell_type": "code",
      "source": [
        "myset.add(1)\n",
        "myset"
      ],
      "metadata": {
        "colab": {
          "base_uri": "https://localhost:8080/"
        },
        "id": "YUYdGgqDd_ZM",
        "outputId": "26168207-74f2-44ca-b7ad-794563546bcf"
      },
      "execution_count": 33,
      "outputs": [
        {
          "output_type": "execute_result",
          "data": {
            "text/plain": [
              "{1}"
            ]
          },
          "metadata": {},
          "execution_count": 33
        }
      ]
    },
    {
      "cell_type": "code",
      "source": [
        "myset.add(2)\n",
        "myset"
      ],
      "metadata": {
        "colab": {
          "base_uri": "https://localhost:8080/"
        },
        "id": "xDyuBTC8eIf7",
        "outputId": "81535114-36f8-41cb-f76b-f4ca8d456def"
      },
      "execution_count": 34,
      "outputs": [
        {
          "output_type": "execute_result",
          "data": {
            "text/plain": [
              "{1, 2}"
            ]
          },
          "metadata": {},
          "execution_count": 34
        }
      ]
    },
    {
      "cell_type": "code",
      "source": [
        "myset.add(1)\n",
        "myset"
      ],
      "metadata": {
        "colab": {
          "base_uri": "https://localhost:8080/"
        },
        "id": "rAUdyO3VeQLv",
        "outputId": "87e7b9e1-9e5b-4412-c522-ce26b62f2c90"
      },
      "execution_count": 35,
      "outputs": [
        {
          "output_type": "execute_result",
          "data": {
            "text/plain": [
              "{1, 2}"
            ]
          },
          "metadata": {},
          "execution_count": 35
        }
      ]
    },
    {
      "cell_type": "code",
      "source": [
        "myset.update([3,4,5])\n",
        "myset"
      ],
      "metadata": {
        "colab": {
          "base_uri": "https://localhost:8080/"
        },
        "id": "82r1NdJmeVzH",
        "outputId": "e8b1f956-0e9c-46e4-e723-9cdd83ad0043"
      },
      "execution_count": 36,
      "outputs": [
        {
          "output_type": "execute_result",
          "data": {
            "text/plain": [
              "{1, 2, 3, 4, 5}"
            ]
          },
          "metadata": {},
          "execution_count": 36
        }
      ]
    },
    {
      "cell_type": "markdown",
      "source": [
        "**CONTROL LOGIC:**\n",
        "\n",
        "**if-elif-else:**\n",
        "\n",
        "*points to remember*\n",
        "\n",
        "*1. Use of colons*\n",
        "\n",
        "*2.Use of indentation(whitespaces)*"
      ],
      "metadata": {
        "id": "gojv9pu-jT4E"
      }
    },
    {
      "cell_type": "code",
      "source": [
        "#Case 1:for one condition\n",
        "mystring='silion'\n",
        "if mystring=='silicon':\n",
        "  print('word found')\n",
        "else:\n",
        "  print('word not found')"
      ],
      "metadata": {
        "colab": {
          "base_uri": "https://localhost:8080/"
        },
        "id": "Rptkoe3ZkCFd",
        "outputId": "7fd3c824-9dbe-406c-b47d-f6bd0d62a139"
      },
      "execution_count": 39,
      "outputs": [
        {
          "output_type": "stream",
          "name": "stdout",
          "text": [
            "word not found\n"
          ]
        }
      ]
    },
    {
      "cell_type": "code",
      "source": [
        "#Case 2:for more than one condition\n",
        "mystring='silicon'\n",
        "if mystring=='silicon':\n",
        "  print('word silicon found')\n",
        "elif mystring=='institute':\n",
        "  print('word institute found')\n",
        "else:\n",
        "  print('word not found')"
      ],
      "metadata": {
        "colab": {
          "base_uri": "https://localhost:8080/"
        },
        "id": "RFqCaIU2kri8",
        "outputId": "6a4c9c67-fb5d-47e9-a02a-05e43d913456"
      },
      "execution_count": 41,
      "outputs": [
        {
          "output_type": "stream",
          "name": "stdout",
          "text": [
            "word silicon found\n"
          ]
        }
      ]
    },
    {
      "cell_type": "markdown",
      "source": [
        "**for-loop:**\n",
        "\n",
        "*Every object in python is iterable*\n",
        "\n"
      ],
      "metadata": {
        "id": "U7jie77jmBDE"
      }
    },
    {
      "cell_type": "code",
      "source": [
        "mylist=[1,2,3,4]\n",
        "for i in mylist:\n",
        "  print(i)"
      ],
      "metadata": {
        "colab": {
          "base_uri": "https://localhost:8080/"
        },
        "id": "PBSCil3LmQGR",
        "outputId": "138d8a73-206d-495d-8896-d5ffaa680eb5"
      },
      "execution_count": 42,
      "outputs": [
        {
          "output_type": "stream",
          "name": "stdout",
          "text": [
            "1\n",
            "2\n",
            "3\n",
            "4\n"
          ]
        }
      ]
    },
    {
      "cell_type": "code",
      "source": [
        "for i in mylist:\n",
        "  print('hello')"
      ],
      "metadata": {
        "colab": {
          "base_uri": "https://localhost:8080/"
        },
        "id": "gcRIfyf-nFAw",
        "outputId": "86946acd-0545-499b-f46c-6b3de25d348d"
      },
      "execution_count": 43,
      "outputs": [
        {
          "output_type": "stream",
          "name": "stdout",
          "text": [
            "hello\n",
            "hello\n",
            "hello\n",
            "hello\n"
          ]
        }
      ]
    },
    {
      "cell_type": "code",
      "source": [
        "for _ in mylist:\n",
        "  print('hello')"
      ],
      "metadata": {
        "colab": {
          "base_uri": "https://localhost:8080/"
        },
        "id": "mCVtEfeenP8n",
        "outputId": "9670c50f-ed8e-46a0-9a21-783ee6dedfa2"
      },
      "execution_count": 44,
      "outputs": [
        {
          "output_type": "stream",
          "name": "stdout",
          "text": [
            "hello\n",
            "hello\n",
            "hello\n",
            "hello\n"
          ]
        }
      ]
    },
    {
      "cell_type": "code",
      "source": [
        "#loop for Dictionary data type:\n",
        "D1={'k1':20,'k2':30,'k3':40}\n"
      ],
      "metadata": {
        "id": "KqETutZinUVz"
      },
      "execution_count": 51,
      "outputs": []
    },
    {
      "cell_type": "code",
      "source": [
        "for a in D1:\n",
        "  print(\"hello\")"
      ],
      "metadata": {
        "colab": {
          "base_uri": "https://localhost:8080/"
        },
        "id": "x4yIloxUnqGo",
        "outputId": "57bef888-febc-4d46-a6c9-1280dd85a8f1"
      },
      "execution_count": 52,
      "outputs": [
        {
          "output_type": "stream",
          "name": "stdout",
          "text": [
            "hello\n",
            "hello\n",
            "hello\n"
          ]
        }
      ]
    },
    {
      "cell_type": "code",
      "source": [
        "for a in D1:\n",
        "  print(a)"
      ],
      "metadata": {
        "colab": {
          "base_uri": "https://localhost:8080/"
        },
        "id": "HnI3tRX7nwXQ",
        "outputId": "4cd6b426-4734-44ad-a4ee-971e781404fc"
      },
      "execution_count": 53,
      "outputs": [
        {
          "output_type": "stream",
          "name": "stdout",
          "text": [
            "k1\n",
            "k2\n",
            "k3\n"
          ]
        }
      ]
    },
    {
      "cell_type": "code",
      "source": [
        "D.items()"
      ],
      "metadata": {
        "colab": {
          "base_uri": "https://localhost:8080/"
        },
        "id": "RghaSAG8oTfK",
        "outputId": "28039200-7c02-4331-8409-79984f3f4cfc"
      },
      "execution_count": 54,
      "outputs": [
        {
          "output_type": "execute_result",
          "data": {
            "text/plain": [
              "dict_items([('k1', 20), ('k2', 30), ('k3', 40)])"
            ]
          },
          "metadata": {},
          "execution_count": 54
        }
      ]
    },
    {
      "cell_type": "code",
      "source": [
        "l=[(1,2),(3,4),(5,6)]"
      ],
      "metadata": {
        "id": "Ly65VvYQolGS"
      },
      "execution_count": 55,
      "outputs": []
    },
    {
      "cell_type": "code",
      "source": [
        "for a in l:\n",
        "  print(a)"
      ],
      "metadata": {
        "colab": {
          "base_uri": "https://localhost:8080/"
        },
        "id": "O1oMam27os4j",
        "outputId": "d6587bf3-93bc-4516-b87e-0a2371487d29"
      },
      "execution_count": 56,
      "outputs": [
        {
          "output_type": "stream",
          "name": "stdout",
          "text": [
            "(1, 2)\n",
            "(3, 4)\n",
            "(5, 6)\n"
          ]
        }
      ]
    },
    {
      "cell_type": "code",
      "source": [
        "for (a,b) in l:\n",
        "  #print(a)\n",
        "  print(b)"
      ],
      "metadata": {
        "colab": {
          "base_uri": "https://localhost:8080/"
        },
        "id": "0B51SsTEptbw",
        "outputId": "c7af9e7f-9ed4-4e4d-b3e8-5c26b63fc1e5"
      },
      "execution_count": 58,
      "outputs": [
        {
          "output_type": "stream",
          "name": "stdout",
          "text": [
            "2\n",
            "4\n",
            "6\n"
          ]
        }
      ]
    },
    {
      "cell_type": "code",
      "source": [
        "\n",
        "for a,b in l:\n",
        "  print(a)\n",
        "  print(b)\n"
      ],
      "metadata": {
        "colab": {
          "base_uri": "https://localhost:8080/"
        },
        "id": "sbJr_-fbpbBb",
        "outputId": "f3d616ca-a36d-404e-a7f8-ba19f1af4cbd"
      },
      "execution_count": 57,
      "outputs": [
        {
          "output_type": "stream",
          "name": "stdout",
          "text": [
            "1\n",
            "2\n",
            "3\n",
            "4\n",
            "5\n",
            "6\n"
          ]
        }
      ]
    },
    {
      "cell_type": "code",
      "source": [
        "D.items()"
      ],
      "metadata": {
        "colab": {
          "base_uri": "https://localhost:8080/"
        },
        "id": "2pQeYuCDqR1a",
        "outputId": "20e7df8f-8c19-44fc-b98e-483c10b1777e"
      },
      "execution_count": 59,
      "outputs": [
        {
          "output_type": "execute_result",
          "data": {
            "text/plain": [
              "dict_items([('k1', 20), ('k2', 30), ('k3', 40)])"
            ]
          },
          "metadata": {},
          "execution_count": 59
        }
      ]
    },
    {
      "cell_type": "code",
      "source": [
        "for a,b in D.items():\n",
        "  print(a)"
      ],
      "metadata": {
        "colab": {
          "base_uri": "https://localhost:8080/"
        },
        "id": "D8swa92GqV9Q",
        "outputId": "ae798f33-cb3c-4c88-f1d5-fcf232e17396"
      },
      "execution_count": 60,
      "outputs": [
        {
          "output_type": "stream",
          "name": "stdout",
          "text": [
            "k1\n",
            "k2\n",
            "k3\n"
          ]
        }
      ]
    },
    {
      "cell_type": "code",
      "source": [
        "for a,b in D.items():\n",
        "  print(b)"
      ],
      "metadata": {
        "colab": {
          "base_uri": "https://localhost:8080/"
        },
        "id": "mbxGcJBhqjed",
        "outputId": "f981b20b-df6d-466a-8eb6-44c4cdcfeccb"
      },
      "execution_count": 61,
      "outputs": [
        {
          "output_type": "stream",
          "name": "stdout",
          "text": [
            "20\n",
            "30\n",
            "40\n"
          ]
        }
      ]
    },
    {
      "cell_type": "code",
      "source": [
        "for a,b in D.items():\n",
        "  print(a,b)\n"
      ],
      "metadata": {
        "colab": {
          "base_uri": "https://localhost:8080/"
        },
        "id": "cpEsGh4Kqo6U",
        "outputId": "a3eeff82-a934-4bd7-edf0-40ebd9d2108f"
      },
      "execution_count": 64,
      "outputs": [
        {
          "output_type": "stream",
          "name": "stdout",
          "text": [
            "k1 20\n",
            "k2 30\n",
            "k3 40\n"
          ]
        }
      ]
    },
    {
      "cell_type": "code",
      "source": [
        "D.keys()"
      ],
      "metadata": {
        "colab": {
          "base_uri": "https://localhost:8080/"
        },
        "id": "Xl0QfoFxq5NV",
        "outputId": "73ad2477-218a-4f8f-aade-f484a5bb5e95"
      },
      "execution_count": 65,
      "outputs": [
        {
          "output_type": "execute_result",
          "data": {
            "text/plain": [
              "dict_keys(['k1', 'k2', 'k3'])"
            ]
          },
          "metadata": {},
          "execution_count": 65
        }
      ]
    },
    {
      "cell_type": "code",
      "source": [
        "for a in D.keys():\n",
        "  print(a)"
      ],
      "metadata": {
        "colab": {
          "base_uri": "https://localhost:8080/"
        },
        "id": "alSgEWVBq-GN",
        "outputId": "93c04939-8d0b-44b1-a8e9-ceba48f786bf"
      },
      "execution_count": 66,
      "outputs": [
        {
          "output_type": "stream",
          "name": "stdout",
          "text": [
            "k1\n",
            "k2\n",
            "k3\n"
          ]
        }
      ]
    },
    {
      "cell_type": "code",
      "source": [
        "l=[1,2,3]\n",
        "sum=0\n",
        "for a in l:\n",
        "  sum=sum+a\n",
        "print(sum)"
      ],
      "metadata": {
        "colab": {
          "base_uri": "https://localhost:8080/"
        },
        "id": "T0CwxEter291",
        "outputId": "7c4e3a6a-c39f-4723-8f03-38729981cfa5"
      },
      "execution_count": 67,
      "outputs": [
        {
          "output_type": "stream",
          "name": "stdout",
          "text": [
            "6\n"
          ]
        }
      ]
    },
    {
      "cell_type": "code",
      "source": [
        "l=[8,5,7,3,9]\n",
        "sum=0\n",
        "for a in l:\n",
        "  sum=sum+a\n",
        "print(sum)"
      ],
      "metadata": {
        "colab": {
          "base_uri": "https://localhost:8080/"
        },
        "id": "z-t2Y-aHsNm8",
        "outputId": "888be15d-ddf2-49da-bb34-be093e0c9929"
      },
      "execution_count": 69,
      "outputs": [
        {
          "output_type": "stream",
          "name": "stdout",
          "text": [
            "32\n"
          ]
        }
      ]
    },
    {
      "cell_type": "markdown",
      "source": [
        "**While loop**\n",
        "\n"
      ],
      "metadata": {
        "id": "_ZSrcn8gss2o"
      }
    },
    {
      "cell_type": "code",
      "source": [
        "#syntax\n",
        "while some_boolean condition:\n",
        "  so something\n",
        "else:\n",
        "  do something else"
      ],
      "metadata": {
        "id": "k8GU5G31szNh"
      },
      "execution_count": null,
      "outputs": []
    },
    {
      "cell_type": "code",
      "source": [
        "x=0\n",
        "while x<5: #true\n",
        "  print(x)\n",
        "  x=x+1\n",
        "else:\n",
        "  print('done')\n"
      ],
      "metadata": {
        "colab": {
          "base_uri": "https://localhost:8080/"
        },
        "id": "iEisU740tO4I",
        "outputId": "894795a9-6037-44ca-9f23-dd9ea72b5751"
      },
      "execution_count": 73,
      "outputs": [
        {
          "output_type": "stream",
          "name": "stdout",
          "text": [
            "0\n",
            "1\n",
            "2\n",
            "3\n",
            "4\n",
            "done\n"
          ]
        }
      ]
    },
    {
      "cell_type": "code",
      "source": [
        "mystring='silicon'\n",
        "if mystring=='institute':\n",
        "  pass #do nothing, helps the programmer to handle data in latter part of programming\n",
        "else:\n",
        "    print('word found')"
      ],
      "metadata": {
        "colab": {
          "base_uri": "https://localhost:8080/"
        },
        "id": "al2ywHXfubcE",
        "outputId": "0ca03f4c-2c2c-4e0c-b57e-ef46d63b09f2"
      },
      "execution_count": 78,
      "outputs": [
        {
          "output_type": "stream",
          "name": "stdout",
          "text": [
            "word found\n"
          ]
        }
      ]
    },
    {
      "cell_type": "code",
      "source": [
        "mystring='silicon'\n",
        "for a in mystring:\n",
        "  while a=='o':\n",
        "     break #it is keyword used to drive the cursor out of the loop once the condition is satisfied\n",
        "  else:\n",
        "     print(a)\n"
      ],
      "metadata": {
        "colab": {
          "base_uri": "https://localhost:8080/"
        },
        "id": "PqMkJv_tvVNs",
        "outputId": "2dba5680-9166-4f6c-91e7-c8429934723a"
      },
      "execution_count": 92,
      "outputs": [
        {
          "output_type": "stream",
          "name": "stdout",
          "text": [
            "s\n",
            "i\n",
            "l\n",
            "i\n",
            "c\n",
            "n\n"
          ]
        }
      ]
    },
    {
      "cell_type": "code",
      "source": [
        "mystring='silicon'\n",
        "for a in mystring:\n",
        "  while a=='o':\n",
        "     continue\n",
        "  else:\n",
        "     print(a)"
      ],
      "metadata": {
        "colab": {
          "base_uri": "https://localhost:8080/",
          "height": 331
        },
        "id": "t8xnUC5ixBSD",
        "outputId": "a835ffbf-1af3-4409-9b5e-6ba260927f2f"
      },
      "execution_count": 93,
      "outputs": [
        {
          "output_type": "stream",
          "name": "stdout",
          "text": [
            "s\n",
            "i\n",
            "l\n",
            "i\n",
            "c\n"
          ]
        },
        {
          "output_type": "error",
          "ename": "KeyboardInterrupt",
          "evalue": "ignored",
          "traceback": [
            "\u001b[0;31m---------------------------------------------------------------------------\u001b[0m",
            "\u001b[0;31mKeyboardInterrupt\u001b[0m                         Traceback (most recent call last)",
            "\u001b[0;32m<ipython-input-93-5d9880931953>\u001b[0m in \u001b[0;36m<cell line: 2>\u001b[0;34m()\u001b[0m\n\u001b[1;32m      2\u001b[0m \u001b[0;32mfor\u001b[0m \u001b[0ma\u001b[0m \u001b[0;32min\u001b[0m \u001b[0mmystring\u001b[0m\u001b[0;34m:\u001b[0m\u001b[0;34m\u001b[0m\u001b[0;34m\u001b[0m\u001b[0m\n\u001b[1;32m      3\u001b[0m   \u001b[0;32mwhile\u001b[0m \u001b[0ma\u001b[0m\u001b[0;34m==\u001b[0m\u001b[0;34m'o'\u001b[0m\u001b[0;34m:\u001b[0m\u001b[0;34m\u001b[0m\u001b[0;34m\u001b[0m\u001b[0m\n\u001b[0;32m----> 4\u001b[0;31m      \u001b[0;32mcontinue\u001b[0m\u001b[0;34m\u001b[0m\u001b[0;34m\u001b[0m\u001b[0m\n\u001b[0m\u001b[1;32m      5\u001b[0m   \u001b[0;32melse\u001b[0m\u001b[0;34m:\u001b[0m\u001b[0;34m\u001b[0m\u001b[0;34m\u001b[0m\u001b[0m\n\u001b[1;32m      6\u001b[0m      \u001b[0mprint\u001b[0m\u001b[0;34m(\u001b[0m\u001b[0ma\u001b[0m\u001b[0;34m)\u001b[0m\u001b[0;34m\u001b[0m\u001b[0;34m\u001b[0m\u001b[0m\n",
            "\u001b[0;31mKeyboardInterrupt\u001b[0m: "
          ]
        }
      ]
    },
    {
      "cell_type": "code",
      "source": [
        "mystring='silicon'\n",
        "for a in mystring:\n",
        "  if a=='o':\n",
        "     break #it is keyword used to drive the cursor out of the loop once the condition is satisfied\n",
        "  else:\n",
        "     print(a)"
      ],
      "metadata": {
        "colab": {
          "base_uri": "https://localhost:8080/"
        },
        "id": "5lLJQs1nyMNj",
        "outputId": "574b91ba-608a-4e01-c9ad-a34aa39c29f5"
      },
      "execution_count": 96,
      "outputs": [
        {
          "output_type": "stream",
          "name": "stdout",
          "text": [
            "s\n",
            "i\n",
            "l\n",
            "i\n",
            "c\n"
          ]
        }
      ]
    },
    {
      "cell_type": "markdown",
      "source": [],
      "metadata": {
        "id": "RARPatmFsszD"
      }
    }
  ]
}